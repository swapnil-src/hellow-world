{
 "cells": [
  {
   "attachments": {
    "image-3.png": {
     "image/png": "[encoded data removed]"
    }
   },
   "cell_type": "markdown",
   "id": "6afff90f",
   "metadata": {},
   "source": [
    "# <font color = blue> Problem Statement\n",
    "Sales of products in four different regions is given in 'BuyerRatio.csv' for males and females. Find if male-female buyer rations are similar across regions.![image-3.png](attachment:image-3.png)"
   ]
  },
  {
   "cell_type": "markdown",
   "id": "248ff4bb",
   "metadata": {},
   "source": [
    "## <font color = purple> 1. Understanding Business Problem\n",
    "    To find out if male-female buyer rations are similar across above 4 regions"
   ]
  },
  {
   "cell_type": "markdown",
   "id": "09202b10",
   "metadata": {},
   "source": [
    "## <font color = purple> 2. Given Data\n",
    "    Level of Significance → α  = 0.05\n",
    "    (Since α is not given, considering it as 5% level of Significance. In other words 95% level of Confidence)\n",
    "    Null hypothesis       → H0 = All proportions are equeal\n",
    "    Alternate Hypothesis  → Ha = Not all proportions are equeal"
   ]
  },
  {
   "cell_type": "markdown",
   "id": "bb51ad36",
   "metadata": {},
   "source": [
    "## <font color = purple> 3. Import Necessary Libraries"
   ]
  },
  {
   "cell_type": "code",
   "execution_count": 2,
   "id": "34c7e718",
   "metadata": {},
   "outputs": [],
   "source": [
    "import pandas as pd\n",
    "import numpy as np\n",
    "from matplotlib import pyplot as plt\n",
    "from sklearn import preprocessing\n",
    "from scipy.stats import chi2_contingency\n",
    "\n",
    "import warnings\n",
    "warnings.filterwarnings('ignore')"
   ]
  },
  {
   "cell_type": "markdown",
   "id": "f00f8c37",
   "metadata": {},
   "source": [
    "## <font color = purple> 4. Import Data"
   ]
  },
  {
   "cell_type": "code",
   "execution_count": 3,
   "id": "92a8cba9",
   "metadata": {},
   "outputs": [
    {
     "data": {
      "text/html": [
       "<div>\n",
       "<style scoped>\n",
       "    .dataframe tbody tr th:only-of-type {\n",
       "        vertical-align: middle;\n",
       "    }\n",
       "\n",
       "    .dataframe tbody tr th {\n",
       "        vertical-align: top;\n",
       "    }\n",
       "\n",
       "    .dataframe thead th {\n",
       "        text-align: right;\n",
       "    }\n",
       "</style>\n",
       "<table border=\"1\" class=\"dataframe\">\n",
       "  <thead>\n",
       "    <tr style=\"text-align: right;\">\n",
       "      <th></th>\n",
       "      <th>Observed Values</th>\n",
       "      <th>East</th>\n",
       "      <th>West</th>\n",
       "      <th>North</th>\n",
       "      <th>South</th>\n",
       "    </tr>\n",
       "  </thead>\n",
       "  <tbody>\n",
       "    <tr>\n",
       "      <th>0</th>\n",
       "      <td>Males</td>\n",
       "      <td>50</td>\n",
       "      <td>142</td>\n",
       "      <td>131</td>\n",
       "      <td>70</td>\n",
       "    </tr>\n",
       "    <tr>\n",
       "      <th>1</th>\n",
       "      <td>Females</td>\n",
       "      <td>435</td>\n",
       "      <td>1523</td>\n",
       "      <td>1356</td>\n",
       "      <td>750</td>\n",
       "    </tr>\n",
       "  </tbody>\n",
       "</table>\n",
       "</div>"
      ],
      "text/plain": [
       "  Observed Values  East  West  North  South\n",
       "0           Males    50   142    131     70\n",
       "1         Females   435  1523   1356    750"
      ]
     },
     "execution_count": 3,
     "metadata": {},
     "output_type": "execute_result"
    }
   ],
   "source": [
    "sales_data = pd.read_csv('BuyerRatio.csv')\n",
    "sales_data"
   ]
  },
  {
   "cell_type": "markdown",
   "id": "24567aca",
   "metadata": {},
   "source": [
    "## <font color = purple> 5. Perform Initial Analysis"
   ]
  },
  {
   "cell_type": "code",
   "execution_count": 4,
   "id": "f53905e6",
   "metadata": {},
   "outputs": [
    {
     "data": {
      "text/plain": [
       "Observed Values    object\n",
       "East                int64\n",
       "West                int64\n",
       "North               int64\n",
       "South               int64\n",
       "dtype: object"
      ]
     },
     "execution_count": 4,
     "metadata": {},
     "output_type": "execute_result"
    }
   ],
   "source": [
    "# to know the data type of each feature\n",
    "sales_data.dtypes"
   ]
  },
  {
   "cell_type": "code",
   "execution_count": 5,
   "id": "4c861ad2",
   "metadata": {},
   "outputs": [
    {
     "data": {
      "text/html": [
       "<div>\n",
       "<style scoped>\n",
       "    .dataframe tbody tr th:only-of-type {\n",
       "        vertical-align: middle;\n",
       "    }\n",
       "\n",
       "    .dataframe tbody tr th {\n",
       "        vertical-align: top;\n",
       "    }\n",
       "\n",
       "    .dataframe thead th {\n",
       "        text-align: right;\n",
       "    }\n",
       "</style>\n",
       "<table border=\"1\" class=\"dataframe\">\n",
       "  <thead>\n",
       "    <tr style=\"text-align: right;\">\n",
       "      <th></th>\n",
       "      <th>Values</th>\n",
       "      <th>East</th>\n",
       "      <th>West</th>\n",
       "      <th>North</th>\n",
       "      <th>South</th>\n",
       "    </tr>\n",
       "  </thead>\n",
       "  <tbody>\n",
       "    <tr>\n",
       "      <th>0</th>\n",
       "      <td>Males</td>\n",
       "      <td>50</td>\n",
       "      <td>142</td>\n",
       "      <td>131</td>\n",
       "      <td>70</td>\n",
       "    </tr>\n",
       "    <tr>\n",
       "      <th>1</th>\n",
       "      <td>Females</td>\n",
       "      <td>435</td>\n",
       "      <td>1523</td>\n",
       "      <td>1356</td>\n",
       "      <td>750</td>\n",
       "    </tr>\n",
       "  </tbody>\n",
       "</table>\n",
       "</div>"
      ],
      "text/plain": [
       "    Values  East  West  North  South\n",
       "0    Males    50   142    131     70\n",
       "1  Females   435  1523   1356    750"
      ]
     },
     "execution_count": 5,
     "metadata": {},
     "output_type": "execute_result"
    }
   ],
   "source": [
    "# renaming column 'Observed Values' to 'Values'\n",
    "sales_data.rename(columns={'Observed Values':'Values'},inplace=True)\n",
    "sales_data"
   ]
  },
  {
   "cell_type": "code",
   "execution_count": 6,
   "id": "2baf7b8e",
   "metadata": {},
   "outputs": [
    {
     "data": {
      "text/plain": [
       "pandas.core.frame.DataFrame"
      ]
     },
     "execution_count": 6,
     "metadata": {},
     "output_type": "execute_result"
    }
   ],
   "source": [
    "type(sales_data)"
   ]
  },
  {
   "cell_type": "code",
   "execution_count": 7,
   "id": "e4fe8e53",
   "metadata": {},
   "outputs": [],
   "source": [
    "# Since 'Observed Values' is a categorical feature lets apply 'Label ENcoder' to convert it into numbers."
   ]
  },
  {
   "cell_type": "code",
   "execution_count": 8,
   "id": "8eca5c4b",
   "metadata": {},
   "outputs": [],
   "source": [
    "label_encoder = preprocessing.LabelEncoder()"
   ]
  },
  {
   "cell_type": "code",
   "execution_count": 9,
   "id": "f69d89a8",
   "metadata": {},
   "outputs": [
    {
     "data": {
      "text/html": [
       "<div>\n",
       "<style scoped>\n",
       "    .dataframe tbody tr th:only-of-type {\n",
       "        vertical-align: middle;\n",
       "    }\n",
       "\n",
       "    .dataframe tbody tr th {\n",
       "        vertical-align: top;\n",
       "    }\n",
       "\n",
       "    .dataframe thead th {\n",
       "        text-align: right;\n",
       "    }\n",
       "</style>\n",
       "<table border=\"1\" class=\"dataframe\">\n",
       "  <thead>\n",
       "    <tr style=\"text-align: right;\">\n",
       "      <th></th>\n",
       "      <th>Values</th>\n",
       "      <th>East</th>\n",
       "      <th>West</th>\n",
       "      <th>North</th>\n",
       "      <th>South</th>\n",
       "    </tr>\n",
       "  </thead>\n",
       "  <tbody>\n",
       "    <tr>\n",
       "      <th>0</th>\n",
       "      <td>1</td>\n",
       "      <td>50</td>\n",
       "      <td>142</td>\n",
       "      <td>131</td>\n",
       "      <td>70</td>\n",
       "    </tr>\n",
       "    <tr>\n",
       "      <th>1</th>\n",
       "      <td>0</td>\n",
       "      <td>435</td>\n",
       "      <td>1523</td>\n",
       "      <td>1356</td>\n",
       "      <td>750</td>\n",
       "    </tr>\n",
       "  </tbody>\n",
       "</table>\n",
       "</div>"
      ],
      "text/plain": [
       "   Values  East  West  North  South\n",
       "0       1    50   142    131     70\n",
       "1       0   435  1523   1356    750"
      ]
     },
     "execution_count": 9,
     "metadata": {},
     "output_type": "execute_result"
    }
   ],
   "source": [
    "# applying label encoder on 'Values' column\n",
    "sales_data['Values'] = label_encoder.fit_transform(sales_data['Values'])\n",
    "sales_data"
   ]
  },
  {
   "cell_type": "code",
   "execution_count": 10,
   "id": "9511534e",
   "metadata": {},
   "outputs": [
    {
     "data": {
      "image/png": "[encoded data removed]",
      "text/plain": [
       "<Figure size 432x288 with 1 Axes>"
      ]
     },
     "metadata": {
      "needs_background": "light"
     },
     "output_type": "display_data"
    }
   ],
   "source": [
    "y1 = sales_data.iloc[0]\n",
    "y2 = sales_data.iloc[1]\n",
    "plt.plot(y1, label = 'Males')\n",
    "plt.plot(y2, label = 'Females')\n",
    "plt.legend(loc='upper left')\n",
    "plt.title('Line Plot for male-Female buyers ration')\n",
    "plt.show()"
   ]
  },
  {
   "cell_type": "markdown",
   "id": "db18d5b2",
   "metadata": {},
   "source": [
    "## <font color = purple> 6. Hypothesis Formulation\n",
    "    HO = All proportions are equal.\n",
    "    H1 = Not all proportions are equal.\n",
    "    α  = 0.05"
   ]
  },
  {
   "cell_type": "markdown",
   "id": "44052e51",
   "metadata": {},
   "source": [
    "## <font color = purple> 7. Perform Hypothesis Testing"
   ]
  },
  {
   "cell_type": "markdown",
   "id": "fffc8fdd",
   "metadata": {},
   "source": [
    "### <font color = purple> *Since there are more than 2 variables, we will perform Chi-Square test*"
   ]
  },
  {
   "cell_type": "code",
   "execution_count": 11,
   "id": "3a8469e2",
   "metadata": {},
   "outputs": [],
   "source": [
    "chi2,p_val_sales,dof_sales,expected_sales  = chi2_contingency(sales_data)"
   ]
  },
  {
   "cell_type": "code",
   "execution_count": 12,
   "id": "36e47f1f",
   "metadata": {},
   "outputs": [
    {
     "data": {
      "text/plain": [
       "0.018035974243023764"
      ]
     },
     "execution_count": 12,
     "metadata": {},
     "output_type": "execute_result"
    }
   ],
   "source": [
    "p_val_sales"
   ]
  },
  {
   "cell_type": "code",
   "execution_count": 13,
   "id": "de571924",
   "metadata": {},
   "outputs": [
    {
     "name": "stdout",
     "output_type": "stream",
     "text": [
      "0.018\n"
     ]
    }
   ],
   "source": [
    "print(round(p_val_sales,4))"
   ]
  },
  {
   "cell_type": "code",
   "execution_count": 29,
   "id": "032b5d1f",
   "metadata": {},
   "outputs": [
    {
     "name": "stdout",
     "output_type": "stream",
     "text": [
      "Chi-Square test   : 1.595945538661058\n",
      "P-value           : 0.6603094907091882\n",
      "Degrees of Freedom: 3\n",
      "Expected Sales    :\n",
      " [[  42.76531299  146.81287862  131.11756787   72.30424052]\n",
      " [ 442.23468701 1518.18712138 1355.88243213  747.69575948]]\n"
     ]
    }
   ],
   "source": [
    "print('Chi-Square test   :',chi2)\n",
    "print('P-value           :',p_val_sales)\n",
    "print('Degrees of Freedom:',dof_sales)\n",
    "print('Expected Sales    :\\n',expected_sales)"
   ]
  },
  {
   "cell_type": "markdown",
   "id": "c31ef3ad",
   "metadata": {},
   "source": [
    "### <font color = purple> *In above data 'Values' column is also considered which is affecting our P-value*"
   ]
  },
  {
   "cell_type": "code",
   "execution_count": 15,
   "id": "9f396ff0",
   "metadata": {},
   "outputs": [
    {
     "data": {
      "text/html": [
       "<div>\n",
       "<style scoped>\n",
       "    .dataframe tbody tr th:only-of-type {\n",
       "        vertical-align: middle;\n",
       "    }\n",
       "\n",
       "    .dataframe tbody tr th {\n",
       "        vertical-align: top;\n",
       "    }\n",
       "\n",
       "    .dataframe thead th {\n",
       "        text-align: right;\n",
       "    }\n",
       "</style>\n",
       "<table border=\"1\" class=\"dataframe\">\n",
       "  <thead>\n",
       "    <tr style=\"text-align: right;\">\n",
       "      <th></th>\n",
       "      <th>Values</th>\n",
       "      <th>East</th>\n",
       "      <th>West</th>\n",
       "      <th>North</th>\n",
       "      <th>South</th>\n",
       "    </tr>\n",
       "  </thead>\n",
       "  <tbody>\n",
       "    <tr>\n",
       "      <th>0</th>\n",
       "      <td>1</td>\n",
       "      <td>50</td>\n",
       "      <td>142</td>\n",
       "      <td>131</td>\n",
       "      <td>70</td>\n",
       "    </tr>\n",
       "    <tr>\n",
       "      <th>1</th>\n",
       "      <td>0</td>\n",
       "      <td>435</td>\n",
       "      <td>1523</td>\n",
       "      <td>1356</td>\n",
       "      <td>750</td>\n",
       "    </tr>\n",
       "  </tbody>\n",
       "</table>\n",
       "</div>"
      ],
      "text/plain": [
       "   Values  East  West  North  South\n",
       "0       1    50   142    131     70\n",
       "1       0   435  1523   1356    750"
      ]
     },
     "execution_count": 15,
     "metadata": {},
     "output_type": "execute_result"
    }
   ],
   "source": [
    "sales_data"
   ]
  },
  {
   "cell_type": "code",
   "execution_count": 16,
   "id": "8f8e8638",
   "metadata": {},
   "outputs": [],
   "source": [
    "# Lets create a copy of 'sales_data' and remove 'Values' column from newly created data"
   ]
  },
  {
   "cell_type": "code",
   "execution_count": 17,
   "id": "ca739d5b",
   "metadata": {},
   "outputs": [],
   "source": [
    "sales_data_copy = sales_data.copy"
   ]
  },
  {
   "cell_type": "code",
   "execution_count": 18,
   "id": "82cabdfe",
   "metadata": {},
   "outputs": [
    {
     "data": {
      "text/plain": [
       "<bound method NDFrame.copy of    Values  East  West  North  South\n",
       "0       1    50   142    131     70\n",
       "1       0   435  1523   1356    750>"
      ]
     },
     "execution_count": 18,
     "metadata": {},
     "output_type": "execute_result"
    }
   ],
   "source": [
    "sales_data_copy"
   ]
  },
  {
   "cell_type": "code",
   "execution_count": 19,
   "id": "110715d2",
   "metadata": {},
   "outputs": [],
   "source": [
    "# To avoid the error above, always use () with the method"
   ]
  },
  {
   "cell_type": "code",
   "execution_count": 20,
   "id": "06b91824",
   "metadata": {},
   "outputs": [],
   "source": [
    "sales_data_copy = sales_data.copy()"
   ]
  },
  {
   "cell_type": "code",
   "execution_count": 21,
   "id": "4521f991",
   "metadata": {},
   "outputs": [
    {
     "data": {
      "text/html": [
       "<div>\n",
       "<style scoped>\n",
       "    .dataframe tbody tr th:only-of-type {\n",
       "        vertical-align: middle;\n",
       "    }\n",
       "\n",
       "    .dataframe tbody tr th {\n",
       "        vertical-align: top;\n",
       "    }\n",
       "\n",
       "    .dataframe thead th {\n",
       "        text-align: right;\n",
       "    }\n",
       "</style>\n",
       "<table border=\"1\" class=\"dataframe\">\n",
       "  <thead>\n",
       "    <tr style=\"text-align: right;\">\n",
       "      <th></th>\n",
       "      <th>Values</th>\n",
       "      <th>East</th>\n",
       "      <th>West</th>\n",
       "      <th>North</th>\n",
       "      <th>South</th>\n",
       "    </tr>\n",
       "  </thead>\n",
       "  <tbody>\n",
       "    <tr>\n",
       "      <th>0</th>\n",
       "      <td>1</td>\n",
       "      <td>50</td>\n",
       "      <td>142</td>\n",
       "      <td>131</td>\n",
       "      <td>70</td>\n",
       "    </tr>\n",
       "    <tr>\n",
       "      <th>1</th>\n",
       "      <td>0</td>\n",
       "      <td>435</td>\n",
       "      <td>1523</td>\n",
       "      <td>1356</td>\n",
       "      <td>750</td>\n",
       "    </tr>\n",
       "  </tbody>\n",
       "</table>\n",
       "</div>"
      ],
      "text/plain": [
       "   Values  East  West  North  South\n",
       "0       1    50   142    131     70\n",
       "1       0   435  1523   1356    750"
      ]
     },
     "execution_count": 21,
     "metadata": {},
     "output_type": "execute_result"
    }
   ],
   "source": [
    "sales_data_copy"
   ]
  },
  {
   "cell_type": "code",
   "execution_count": 22,
   "id": "3796bd0a",
   "metadata": {},
   "outputs": [
    {
     "data": {
      "text/html": [
       "<div>\n",
       "<style scoped>\n",
       "    .dataframe tbody tr th:only-of-type {\n",
       "        vertical-align: middle;\n",
       "    }\n",
       "\n",
       "    .dataframe tbody tr th {\n",
       "        vertical-align: top;\n",
       "    }\n",
       "\n",
       "    .dataframe thead th {\n",
       "        text-align: right;\n",
       "    }\n",
       "</style>\n",
       "<table border=\"1\" class=\"dataframe\">\n",
       "  <thead>\n",
       "    <tr style=\"text-align: right;\">\n",
       "      <th></th>\n",
       "      <th>East</th>\n",
       "      <th>West</th>\n",
       "      <th>North</th>\n",
       "      <th>South</th>\n",
       "    </tr>\n",
       "  </thead>\n",
       "  <tbody>\n",
       "    <tr>\n",
       "      <th>0</th>\n",
       "      <td>50</td>\n",
       "      <td>142</td>\n",
       "      <td>131</td>\n",
       "      <td>70</td>\n",
       "    </tr>\n",
       "    <tr>\n",
       "      <th>1</th>\n",
       "      <td>435</td>\n",
       "      <td>1523</td>\n",
       "      <td>1356</td>\n",
       "      <td>750</td>\n",
       "    </tr>\n",
       "  </tbody>\n",
       "</table>\n",
       "</div>"
      ],
      "text/plain": [
       "   East  West  North  South\n",
       "0    50   142    131     70\n",
       "1   435  1523   1356    750"
      ]
     },
     "execution_count": 22,
     "metadata": {},
     "output_type": "execute_result"
    }
   ],
   "source": [
    "sales_data_copy = sales_data_copy.drop(columns=['Values'])\n",
    "sales_data_copy"
   ]
  },
  {
   "cell_type": "code",
   "execution_count": 23,
   "id": "d1066283",
   "metadata": {},
   "outputs": [],
   "source": [
    "chi2,p_val_sales,dof_sales,expected_sales  = chi2_contingency(sales_data_copy)"
   ]
  },
  {
   "cell_type": "code",
   "execution_count": 24,
   "id": "ebc9d416",
   "metadata": {},
   "outputs": [
    {
     "data": {
      "text/plain": [
       "0.6603094907091882"
      ]
     },
     "execution_count": 24,
     "metadata": {},
     "output_type": "execute_result"
    }
   ],
   "source": [
    "p_val_sales"
   ]
  },
  {
   "cell_type": "code",
   "execution_count": 25,
   "id": "089a7fdf",
   "metadata": {},
   "outputs": [
    {
     "name": "stdout",
     "output_type": "stream",
     "text": [
      "0.6603\n"
     ]
    }
   ],
   "source": [
    "print(round(p_val_sales,4))"
   ]
  },
  {
   "cell_type": "code",
   "execution_count": 26,
   "id": "e4b30f7e",
   "metadata": {},
   "outputs": [
    {
     "name": "stdout",
     "output_type": "stream",
     "text": [
      "Chi-Square test   : 1.595945538661058\n",
      "P-value           : 0.6603094907091882\n",
      "Degrees of Freedom: 3\n",
      "Expected Sales    :\n",
      " [[  42.76531299  146.81287862  131.11756787   72.30424052]\n",
      " [ 442.23468701 1518.18712138 1355.88243213  747.69575948]]\n"
     ]
    }
   ],
   "source": [
    "print('Chi-Square test   :',chi2)\n",
    "print('P-value           :',p_val_sales)\n",
    "print('Degrees of Freedom:',dof_sales)\n",
    "print('Expected Sales    :\\n',expected_sales)"
   ]
  },
  {
   "cell_type": "markdown",
   "id": "0422f3bc",
   "metadata": {},
   "source": [
    "## <font color = purple> 8. Conclusion"
   ]
  },
  {
   "cell_type": "code",
   "execution_count": 27,
   "id": "fc119811",
   "metadata": {},
   "outputs": [],
   "source": [
    "# checking if 'α > P-value' or 'α < P-value'"
   ]
  },
  {
   "cell_type": "code",
   "execution_count": 28,
   "id": "ab691b9a",
   "metadata": {},
   "outputs": [
    {
     "name": "stdout",
     "output_type": "stream",
     "text": [
      "At 5% level of significance, we cannot reject the Null Hypothesis and we can say that all proportions are equeal.\n"
     ]
    }
   ],
   "source": [
    "if p_val_sales > 0.05:\n",
    "    print('At 5% level of significance, we cannot reject the Null Hypothesis and we can say that all proportions are equeal.')\n",
    "else:\n",
    "    print('At 5% level of significance, we can reject the Null Hypothesis and we can say that not all proportions are equeal.')"
   ]
  }
 ],
 "metadata": {
  "kernelspec": {
   "display_name": "Python 3 (ipykernel)",
   "language": "python",
   "name": "python3"
  },
  "language_info": {
   "codemirror_mode": {
    "name": "ipython",
    "version": 3
   },
   "file_extension": ".py",
   "mimetype": "text/x-python",
   "name": "python",
   "nbconvert_exporter": "python",
   "pygments_lexer": "ipython3",
   "version": "3.9.7"
  }
 },
 "nbformat": 4,
 "nbformat_minor": 5
}
