{
 "cells": [
  {
   "cell_type": "markdown",
   "id": "10a2b9ef",
   "metadata": {},
   "source": [
    "# <font color = blue> Problem Statement\n",
    "\n",
    "A hospital wants to determine whether there is any difference in the average Turn Around Time (TAT) of reports of the laboratories on their preferred list. They collected a random sample and recorded TAT for reports of 4 laboratories. TAT is defined as sample collected to report dispatch.\n",
    "Analyze the data and determine whether there is any difference in average TAT among the different laboratories at 5% significance level."
   ]
  },
  {
   "cell_type": "markdown",
   "id": "dc145501",
   "metadata": {},
   "source": [
    "## <font color = purple> 1. Understanding Business Problem\n",
    "    To find out if there is any difference in average TAT among the different laboratories at 5% significance level"
   ]
  },
  {
   "cell_type": "markdown",
   "id": "38930d79",
   "metadata": {},
   "source": [
    "## <font color = purple> 2. Given Data\n",
    "    Level of Significance → α = 0.05"
   ]
  },
  {
   "cell_type": "markdown",
   "id": "94f69a3e",
   "metadata": {},
   "source": [
    "## <font color = purple> 3. Import Necessary Libraries"
   ]
  },
  {
   "cell_type": "code",
   "execution_count": 1,
   "id": "b82cf4bd",
   "metadata": {},
   "outputs": [],
   "source": [
    "import pandas as pd\n",
    "import numpy as np\n",
    "import seaborn as sns\n",
    "import statsmodels.api as sm\n",
    "import statsmodels.formula.api as smf\n",
    "from matplotlib import pyplot as plt\n",
    "from scipy import stats\n",
    "\n",
    "import warnings\n",
    "warnings.filterwarnings('ignore')"
   ]
  },
  {
   "cell_type": "markdown",
   "id": "a966c50d",
   "metadata": {},
   "source": [
    "## <font color = purple> 4. Import Data"
   ]
  },
  {
   "cell_type": "code",
   "execution_count": 12,
   "id": "4022e58f",
   "metadata": {},
   "outputs": [
    {
     "data": {
      "text/html": [
       "<div>\n",
       "<style scoped>\n",
       "    .dataframe tbody tr th:only-of-type {\n",
       "        vertical-align: middle;\n",
       "    }\n",
       "\n",
       "    .dataframe tbody tr th {\n",
       "        vertical-align: top;\n",
       "    }\n",
       "\n",
       "    .dataframe thead th {\n",
       "        text-align: right;\n",
       "    }\n",
       "</style>\n",
       "<table border=\"1\" class=\"dataframe\">\n",
       "  <thead>\n",
       "    <tr style=\"text-align: right;\">\n",
       "      <th></th>\n",
       "      <th>Laboratory 1</th>\n",
       "      <th>Laboratory 2</th>\n",
       "      <th>Laboratory 3</th>\n",
       "      <th>Laboratory 4</th>\n",
       "    </tr>\n",
       "  </thead>\n",
       "  <tbody>\n",
       "    <tr>\n",
       "      <th>0</th>\n",
       "      <td>185.35</td>\n",
       "      <td>165.53</td>\n",
       "      <td>176.70</td>\n",
       "      <td>166.13</td>\n",
       "    </tr>\n",
       "    <tr>\n",
       "      <th>1</th>\n",
       "      <td>170.49</td>\n",
       "      <td>185.91</td>\n",
       "      <td>198.45</td>\n",
       "      <td>160.79</td>\n",
       "    </tr>\n",
       "    <tr>\n",
       "      <th>2</th>\n",
       "      <td>192.77</td>\n",
       "      <td>194.92</td>\n",
       "      <td>201.23</td>\n",
       "      <td>185.18</td>\n",
       "    </tr>\n",
       "    <tr>\n",
       "      <th>3</th>\n",
       "      <td>177.33</td>\n",
       "      <td>183.00</td>\n",
       "      <td>199.61</td>\n",
       "      <td>176.42</td>\n",
       "    </tr>\n",
       "    <tr>\n",
       "      <th>4</th>\n",
       "      <td>193.41</td>\n",
       "      <td>169.57</td>\n",
       "      <td>204.63</td>\n",
       "      <td>152.60</td>\n",
       "    </tr>\n",
       "    <tr>\n",
       "      <th>...</th>\n",
       "      <td>...</td>\n",
       "      <td>...</td>\n",
       "      <td>...</td>\n",
       "      <td>...</td>\n",
       "    </tr>\n",
       "    <tr>\n",
       "      <th>115</th>\n",
       "      <td>178.49</td>\n",
       "      <td>170.66</td>\n",
       "      <td>193.80</td>\n",
       "      <td>172.68</td>\n",
       "    </tr>\n",
       "    <tr>\n",
       "      <th>116</th>\n",
       "      <td>176.08</td>\n",
       "      <td>183.98</td>\n",
       "      <td>215.25</td>\n",
       "      <td>177.64</td>\n",
       "    </tr>\n",
       "    <tr>\n",
       "      <th>117</th>\n",
       "      <td>202.48</td>\n",
       "      <td>174.54</td>\n",
       "      <td>203.99</td>\n",
       "      <td>170.27</td>\n",
       "    </tr>\n",
       "    <tr>\n",
       "      <th>118</th>\n",
       "      <td>182.40</td>\n",
       "      <td>197.18</td>\n",
       "      <td>194.52</td>\n",
       "      <td>150.87</td>\n",
       "    </tr>\n",
       "    <tr>\n",
       "      <th>119</th>\n",
       "      <td>182.09</td>\n",
       "      <td>215.17</td>\n",
       "      <td>221.49</td>\n",
       "      <td>162.21</td>\n",
       "    </tr>\n",
       "  </tbody>\n",
       "</table>\n",
       "<p>120 rows × 4 columns</p>\n",
       "</div>"
      ],
      "text/plain": [
       "     Laboratory 1  Laboratory 2  Laboratory 3  Laboratory 4\n",
       "0          185.35        165.53        176.70        166.13\n",
       "1          170.49        185.91        198.45        160.79\n",
       "2          192.77        194.92        201.23        185.18\n",
       "3          177.33        183.00        199.61        176.42\n",
       "4          193.41        169.57        204.63        152.60\n",
       "..            ...           ...           ...           ...\n",
       "115        178.49        170.66        193.80        172.68\n",
       "116        176.08        183.98        215.25        177.64\n",
       "117        202.48        174.54        203.99        170.27\n",
       "118        182.40        197.18        194.52        150.87\n",
       "119        182.09        215.17        221.49        162.21\n",
       "\n",
       "[120 rows x 4 columns]"
      ]
     },
     "execution_count": 12,
     "metadata": {},
     "output_type": "execute_result"
    }
   ],
   "source": [
    "labs_data = pd.read_csv('LabTAT.csv')\n",
    "labs_data"
   ]
  },
  {
   "cell_type": "markdown",
   "id": "3d7fb221",
   "metadata": {},
   "source": [
    "## <font color = purple> 5. Perform Initial Analysis"
   ]
  },
  {
   "cell_type": "code",
   "execution_count": 13,
   "id": "59fde865",
   "metadata": {},
   "outputs": [
    {
     "data": {
      "text/plain": [
       "(120, 4)"
      ]
     },
     "execution_count": 13,
     "metadata": {},
     "output_type": "execute_result"
    }
   ],
   "source": [
    "labs_data.shape"
   ]
  },
  {
   "cell_type": "code",
   "execution_count": 15,
   "id": "08c88cc6",
   "metadata": {},
   "outputs": [
    {
     "data": {
      "text/plain": [
       "Laboratory 1    float64\n",
       "Laboratory 2    float64\n",
       "Laboratory 3    float64\n",
       "Laboratory 4    float64\n",
       "dtype: object"
      ]
     },
     "execution_count": 15,
     "metadata": {},
     "output_type": "execute_result"
    }
   ],
   "source": [
    "labs_data.dtypes"
   ]
  },
  {
   "cell_type": "code",
   "execution_count": 14,
   "id": "fe758ea9",
   "metadata": {},
   "outputs": [
    {
     "data": {
      "text/plain": [
       "Laboratory 1    0\n",
       "Laboratory 2    0\n",
       "Laboratory 3    0\n",
       "Laboratory 4    0\n",
       "dtype: int64"
      ]
     },
     "execution_count": 14,
     "metadata": {},
     "output_type": "execute_result"
    }
   ],
   "source": [
    "labs_data.isnull().sum()"
   ]
  },
  {
   "cell_type": "code",
   "execution_count": 16,
   "id": "072db13b",
   "metadata": {},
   "outputs": [
    {
     "data": {
      "image/png": "[encoded data removed]",
      "text/plain": [
       "<Figure size 432x288 with 1 Axes>"
      ]
     },
     "metadata": {
      "needs_background": "light"
     },
     "output_type": "display_data"
    }
   ],
   "source": [
    "labs_data.boxplot(column= ['Laboratory 1','Laboratory 2','Laboratory 3','Laboratory 4'])\n",
    "plt.show() # understanding the labs_data using boxplotb"
   ]
  },
  {
   "cell_type": "markdown",
   "id": "9a2899a7",
   "metadata": {},
   "source": [
    "### <font color = purple> Checking normality with the help of QQ Plot"
   ]
  },
  {
   "cell_type": "code",
   "execution_count": 17,
   "id": "d121396a",
   "metadata": {},
   "outputs": [
    {
     "data": {
      "image/png": "[encoded data removed]",
      "text/plain": [
       "<Figure size 432x288 with 1 Axes>"
      ]
     },
     "metadata": {
      "needs_background": "light"
     },
     "output_type": "display_data"
    }
   ],
   "source": [
    "sm.qqplot(data = labs_data['Laboratory 1'],line= 'r')\n",
    "plt.show()"
   ]
  },
  {
   "cell_type": "code",
   "execution_count": 18,
   "id": "e457c174",
   "metadata": {},
   "outputs": [
    {
     "data": {
      "image/png": "[encoded data removed]",
      "text/plain": [
       "<Figure size 432x288 with 1 Axes>"
      ]
     },
     "metadata": {
      "needs_background": "light"
     },
     "output_type": "display_data"
    }
   ],
   "source": [
    "sm.qqplot(data = labs_data['Laboratory 2'],line= 'r')\n",
    "plt.show()"
   ]
  },
  {
   "cell_type": "code",
   "execution_count": 19,
   "id": "383fe490",
   "metadata": {},
   "outputs": [
    {
     "data": {
      "image/png": "[encoded data removed]",
      "text/plain": [
       "<Figure size 432x288 with 1 Axes>"
      ]
     },
     "metadata": {
      "needs_background": "light"
     },
     "output_type": "display_data"
    }
   ],
   "source": [
    "sm.qqplot(data = labs_data['Laboratory 3'],line= 'r')\n",
    "plt.show()"
   ]
  },
  {
   "cell_type": "code",
   "execution_count": 20,
   "id": "bdea13cb",
   "metadata": {},
   "outputs": [
    {
     "data": {
      "image/png": "[encoded data removed]",
      "text/plain": [
       "<Figure size 432x288 with 1 Axes>"
      ]
     },
     "metadata": {
      "needs_background": "light"
     },
     "output_type": "display_data"
    }
   ],
   "source": [
    "sm.qqplot(data = labs_data['Laboratory 4'],line= 'r')\n",
    "plt.show()"
   ]
  },
  {
   "cell_type": "markdown",
   "id": "ce16dc49",
   "metadata": {},
   "source": [
    "## <font color = purple> 6. Hypothesis Formulation\n",
    "    HO = There is no significant difference in average TAT among the 4 different laboratories.\n",
    "    H1 = There is a significant difference in average TAT among the 4 different laboratories.\n",
    "    α  = 5%**"
   ]
  },
  {
   "cell_type": "markdown",
   "id": "a9b70f3c",
   "metadata": {},
   "source": [
    "## <font color = purple> 7. Perform Hypothesis Testing\n",
    "Here we have 4 samples from 4 different labs. We can use one-way ANOVA test to determine if two or more groups have\n",
    "the same population mean."
   ]
  },
  {
   "cell_type": "markdown",
   "id": "e1478626",
   "metadata": {},
   "source": [
    "### <font color = purple> *Since we have 4 samples from 4 different labs. We will use 'one-way ANOVA test' to determine if two or more groups have the same population mean.*"
   ]
  },
  {
   "cell_type": "code",
   "execution_count": 21,
   "id": "52deda93",
   "metadata": {},
   "outputs": [],
   "source": [
    "f_statistic_labs,p_val_labs = stats.f_oneway(labs_data['Laboratory 1'], labs_data['Laboratory 2'], \n",
    "                                        labs_data['Laboratory 3'], labs_data['Laboratory 4'], axis=0)"
   ]
  },
  {
   "cell_type": "code",
   "execution_count": 22,
   "id": "648b7beb",
   "metadata": {},
   "outputs": [
    {
     "data": {
      "text/plain": [
       "2.1156708949992414e-57"
      ]
     },
     "execution_count": 22,
     "metadata": {},
     "output_type": "execute_result"
    }
   ],
   "source": [
    "p_val_labs"
   ]
  },
  {
   "cell_type": "code",
   "execution_count": 23,
   "id": "b91e0b64",
   "metadata": {},
   "outputs": [
    {
     "name": "stdout",
     "output_type": "stream",
     "text": [
      "*************************************************\n",
      "F statistic Value           : 118.70421654401437\n",
      "P-Value for laboratory data : 2.1156708949992414e-57\n",
      "*************************************************\n"
     ]
    }
   ],
   "source": [
    "print('*************************************************')\n",
    "print('F statistic Value           :',f_statistic_labs)\n",
    "print('P-Value for laboratory data :',p_val_labs)\n",
    "print('*************************************************')"
   ]
  },
  {
   "cell_type": "code",
   "execution_count": 24,
   "id": "02637ded",
   "metadata": {},
   "outputs": [
    {
     "name": "stdout",
     "output_type": "stream",
     "text": [
      "At 5% level of significance we can reject the Null Hypothesis and we can state that there is a significant difference in average TAT among the 4 different laboratories.\n"
     ]
    }
   ],
   "source": [
    "if p_val_labs < 0.05:\n",
    "    print('At 5% level of significance we can reject the Null Hypothesis and we can state that there is a significant difference in average TAT among the 4 different laboratories.')\n",
    "else:\n",
    "    print('At 5% level of significance we cannot reject the Null Hypothesis and we can state that there is no significant difference in average TAT among the 4 different laboratories.')"
   ]
  },
  {
   "cell_type": "markdown",
   "id": "9dedd41a",
   "metadata": {},
   "source": [
    "## <font color = purple> 8. Verifying the above conclusion manually"
   ]
  },
  {
   "cell_type": "markdown",
   "id": "7707a1b4",
   "metadata": {},
   "source": [
    "##### Verifying the result by calculating the mean of 'Laboratory 1', 'Laboratory 2', 'Laboratory 3' and 'Laboratory 4'"
   ]
  },
  {
   "cell_type": "code",
   "execution_count": 25,
   "id": "b9a320b6",
   "metadata": {},
   "outputs": [
    {
     "data": {
      "text/plain": [
       "178.36158333333339"
      ]
     },
     "execution_count": 25,
     "metadata": {},
     "output_type": "execute_result"
    }
   ],
   "source": [
    "mean_lab1 = labs_data['Laboratory 1'].mean()\n",
    "mean_lab1"
   ]
  },
  {
   "cell_type": "code",
   "execution_count": 26,
   "id": "7b04a16a",
   "metadata": {},
   "outputs": [
    {
     "data": {
      "text/plain": [
       "178.9029166666668"
      ]
     },
     "execution_count": 26,
     "metadata": {},
     "output_type": "execute_result"
    }
   ],
   "source": [
    "mean_lab2 = labs_data['Laboratory 2'].mean()\n",
    "mean_lab2"
   ]
  },
  {
   "cell_type": "code",
   "execution_count": 27,
   "id": "c5c24dae",
   "metadata": {},
   "outputs": [
    {
     "data": {
      "text/plain": [
       "199.91325000000003"
      ]
     },
     "execution_count": 27,
     "metadata": {},
     "output_type": "execute_result"
    }
   ],
   "source": [
    "mean_lab3 = labs_data['Laboratory 3'].mean()\n",
    "mean_lab3"
   ]
  },
  {
   "cell_type": "code",
   "execution_count": 28,
   "id": "8e41864c",
   "metadata": {},
   "outputs": [
    {
     "data": {
      "text/plain": [
       "163.6827499999999"
      ]
     },
     "execution_count": 28,
     "metadata": {},
     "output_type": "execute_result"
    }
   ],
   "source": [
    "mean_lab4 = labs_data['Laboratory 4'].mean()\n",
    "mean_lab4"
   ]
  }
 ],
 "metadata": {
  "kernelspec": {
   "display_name": "Python 3 (ipykernel)",
   "language": "python",
   "name": "python3"
  },
  "language_info": {
   "codemirror_mode": {
    "name": "ipython",
    "version": 3
   },
   "file_extension": ".py",
   "mimetype": "text/x-python",
   "name": "python",
   "nbconvert_exporter": "python",
   "pygments_lexer": "ipython3",
   "version": "3.9.7"
  }
 },
 "nbformat": 4,
 "nbformat_minor": 5
}
