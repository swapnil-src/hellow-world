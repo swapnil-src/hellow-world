{
 "cells": [
  {
   "cell_type": "markdown",
   "id": "d4dae245",
   "metadata": {},
   "source": [
    "# <font color = blue> Problem Statement\n",
    "A F&B manager wants to determine whether there is any significant difference in the diameter of the cutlet between two units. A randomly selected sample of cutlets was collected from both units and measured. Analyze the data and draw inferences at 5% significance level. Please state the assumptions and tests that you carried out to check validity of the assumptions."
   ]
  },
  {
   "cell_type": "markdown",
   "id": "3ade38b9",
   "metadata": {},
   "source": [
    "## <font color = purple> 1. Understanding Business Problem\n",
    "    To find out if there is any significant difference in the diameter of the cutlet between two units (Unot-A & Unit-B)"
   ]
  },
  {
   "cell_type": "markdown",
   "id": "c43b53c4",
   "metadata": {},
   "source": [
    "## <font color = purple> 2. Given Data\n",
    "    Level of Significance → α = 0.05"
   ]
  },
  {
   "cell_type": "markdown",
   "id": "90d27240",
   "metadata": {},
   "source": [
    "## <font color = purple> 3. Import Necessary Libraries"
   ]
  },
  {
   "cell_type": "code",
   "execution_count": 1,
   "id": "34c7e718",
   "metadata": {},
   "outputs": [],
   "source": [
    "import pandas as pd\n",
    "import numpy as np\n",
    "import seaborn as sns\n",
    "import statsmodels.api as sm\n",
    "import statsmodels.formula.api as smf\n",
    "from matplotlib import pyplot as plt\n",
    "from scipy import stats\n",
    "\n",
    "import warnings\n",
    "warnings.filterwarnings('ignore')"
   ]
  },
  {
   "cell_type": "markdown",
   "id": "6a72b830",
   "metadata": {},
   "source": [
    "## <font color = purple> 4. Import Data"
   ]
  },
  {
   "cell_type": "code",
   "execution_count": 21,
   "id": "d3d4f1d1",
   "metadata": {},
   "outputs": [],
   "source": [
    "cutlets_df = pd.read_csv('Cutlets.csv')"
   ]
  },
  {
   "cell_type": "code",
   "execution_count": 3,
   "id": "3f3ba0d3",
   "metadata": {},
   "outputs": [
    {
     "data": {
      "text/html": [
       "<div>\n",
       "<style scoped>\n",
       "    .dataframe tbody tr th:only-of-type {\n",
       "        vertical-align: middle;\n",
       "    }\n",
       "\n",
       "    .dataframe tbody tr th {\n",
       "        vertical-align: top;\n",
       "    }\n",
       "\n",
       "    .dataframe thead th {\n",
       "        text-align: right;\n",
       "    }\n",
       "</style>\n",
       "<table border=\"1\" class=\"dataframe\">\n",
       "  <thead>\n",
       "    <tr style=\"text-align: right;\">\n",
       "      <th></th>\n",
       "      <th>Unit A</th>\n",
       "      <th>Unit B</th>\n",
       "    </tr>\n",
       "  </thead>\n",
       "  <tbody>\n",
       "    <tr>\n",
       "      <th>0</th>\n",
       "      <td>6.8090</td>\n",
       "      <td>6.7703</td>\n",
       "    </tr>\n",
       "    <tr>\n",
       "      <th>1</th>\n",
       "      <td>6.4376</td>\n",
       "      <td>7.5093</td>\n",
       "    </tr>\n",
       "    <tr>\n",
       "      <th>2</th>\n",
       "      <td>6.9157</td>\n",
       "      <td>6.7300</td>\n",
       "    </tr>\n",
       "    <tr>\n",
       "      <th>3</th>\n",
       "      <td>7.3012</td>\n",
       "      <td>6.7878</td>\n",
       "    </tr>\n",
       "    <tr>\n",
       "      <th>4</th>\n",
       "      <td>7.4488</td>\n",
       "      <td>7.1522</td>\n",
       "    </tr>\n",
       "  </tbody>\n",
       "</table>\n",
       "</div>"
      ],
      "text/plain": [
       "   Unit A  Unit B\n",
       "0  6.8090  6.7703\n",
       "1  6.4376  7.5093\n",
       "2  6.9157  6.7300\n",
       "3  7.3012  6.7878\n",
       "4  7.4488  7.1522"
      ]
     },
     "execution_count": 3,
     "metadata": {},
     "output_type": "execute_result"
    }
   ],
   "source": [
    "cutlets_df.head()"
   ]
  },
  {
   "cell_type": "markdown",
   "id": "7fa65173",
   "metadata": {},
   "source": [
    "## <font color = purple> 5. Perform Initial Analysis"
   ]
  },
  {
   "cell_type": "code",
   "execution_count": 4,
   "id": "58afda3a",
   "metadata": {},
   "outputs": [
    {
     "data": {
      "text/plain": [
       "(35, 2)"
      ]
     },
     "execution_count": 4,
     "metadata": {},
     "output_type": "execute_result"
    }
   ],
   "source": [
    "cutlets_df.shape"
   ]
  },
  {
   "cell_type": "code",
   "execution_count": 6,
   "id": "3648d3b4",
   "metadata": {},
   "outputs": [
    {
     "data": {
      "text/plain": [
       "Unit A    float64\n",
       "Unit B    float64\n",
       "dtype: object"
      ]
     },
     "execution_count": 6,
     "metadata": {},
     "output_type": "execute_result"
    }
   ],
   "source": [
    "cutlets_df.dtypes # to know the data type"
   ]
  },
  {
   "cell_type": "code",
   "execution_count": 5,
   "id": "ba4c3157",
   "metadata": {},
   "outputs": [
    {
     "data": {
      "text/plain": [
       "Unit A    0\n",
       "Unit B    0\n",
       "dtype: int64"
      ]
     },
     "execution_count": 5,
     "metadata": {},
     "output_type": "execute_result"
    }
   ],
   "source": [
    "cutlets_df.isna().sum() # finding null/NaN values in data"
   ]
  },
  {
   "cell_type": "code",
   "execution_count": 20,
   "id": "c99cedd2",
   "metadata": {},
   "outputs": [
    {
     "data": {
      "image/png": "[encoded data removed]",
      "text/plain": [
       "<Figure size 432x288 with 1 Axes>"
      ]
     },
     "metadata": {
      "needs_background": "light"
     },
     "output_type": "display_data"
    }
   ],
   "source": [
    "plt.title('of UnitA ')\n",
    "sns.distplot(cutlets_df['Unit A'], label='Unit A')\n",
    "sns.distplot(cutlets_df['Unit B'], label='Unit B')\n",
    "plt.xlabel('Diameter')\n",
    "plt.legend()\n",
    "plt.show()"
   ]
  },
  {
   "cell_type": "markdown",
   "id": "d51bc6af",
   "metadata": {},
   "source": [
    "## <font color = purple> 6. Hypothesis Formulation\n",
    "    HO : There is no significant difference in the diameter of the cutlet between two units.\n",
    "    H1 : There is a significant difference in the diameter of the cutlet between two units.\n",
    "    α : 5%**"
   ]
  },
  {
   "cell_type": "markdown",
   "id": "734e5ae3",
   "metadata": {},
   "source": [
    "## <font color = purple> 7. Perform Paired Test (Dependent)\n",
    "    Unit A and Unit B are related to each other so, we can perform paired test to get the p-values."
   ]
  },
  {
   "cell_type": "markdown",
   "id": "ab3aeaef",
   "metadata": {},
   "source": [
    "### <font color = purple> *Since Unit A and Unit B are related to each other so, we will perform Paired test*"
   ]
  },
  {
   "cell_type": "code",
   "execution_count": 9,
   "id": "059e53ff",
   "metadata": {},
   "outputs": [],
   "source": [
    "paired_test_cut_dia,p_val_cut_dia = stats.ttest_rel(a= cutlets_df['Unit A']  ,b= cutlets_df['Unit B'])"
   ]
  },
  {
   "cell_type": "code",
   "execution_count": 10,
   "id": "26fddb83",
   "metadata": {},
   "outputs": [
    {
     "name": "stdout",
     "output_type": "stream",
     "text": [
      "*************************************************\n",
      "Paired T Test Value          : 0.7536787225614314\n",
      "P-Value for cutlets diameter : 0.4562300768038412\n",
      "*************************************************\n"
     ]
    }
   ],
   "source": [
    "print('*************************************************')\n",
    "print('Paired T Test Value          :',paired_test_cut_dia)\n",
    "print('P-Value for cutlets diameter :',p_val_cut_dia)\n",
    "print('*************************************************')"
   ]
  },
  {
   "cell_type": "markdown",
   "id": "8ea44d4f",
   "metadata": {},
   "source": [
    "## <font color = purple> 8. Conclusion"
   ]
  },
  {
   "cell_type": "code",
   "execution_count": 22,
   "id": "7f124d37",
   "metadata": {},
   "outputs": [],
   "source": [
    "# checking if 'α > P-value' or 'α < P-value'"
   ]
  },
  {
   "cell_type": "code",
   "execution_count": 11,
   "id": "2801fb8b",
   "metadata": {},
   "outputs": [
    {
     "name": "stdout",
     "output_type": "stream",
     "text": [
      "At 5% level of significance we cannot reject the Null Hypothesis and we can state that there is no significant difference in the diameter of the cutlet between two units.\n"
     ]
    }
   ],
   "source": [
    "if p_val_cut_dia < 0.05:\n",
    "    print('At 5% level of significance we can reject the Null Hypothesis and we can state that there is a significant difference in the diameter of the cutlet between two units.')\n",
    "else:\n",
    "    print('At 5% level of significance we cannot reject the Null Hypothesis and we can state that there is no significant difference in the diameter of the cutlet between two units.')"
   ]
  },
  {
   "cell_type": "markdown",
   "id": "2afceb44",
   "metadata": {},
   "source": [
    "## <font color = purple> 9. Verifying the above conclusion manually"
   ]
  },
  {
   "cell_type": "markdown",
   "id": "b22bbbe5",
   "metadata": {},
   "source": [
    "##### Verifying the result by calculating the mean of 'Unit A' and 'Unit B'"
   ]
  },
  {
   "cell_type": "code",
   "execution_count": 12,
   "id": "668d3901",
   "metadata": {},
   "outputs": [
    {
     "data": {
      "text/plain": [
       "7.01909142857143"
      ]
     },
     "execution_count": 12,
     "metadata": {},
     "output_type": "execute_result"
    }
   ],
   "source": [
    "unit_a_mean = cutlets_df['Unit A'].mean() # calculation mean of 'Column A'\n",
    "unit_a_mean"
   ]
  },
  {
   "cell_type": "code",
   "execution_count": 13,
   "id": "13278918",
   "metadata": {},
   "outputs": [
    {
     "data": {
      "text/plain": [
       "6.964297142857142"
      ]
     },
     "execution_count": 13,
     "metadata": {},
     "output_type": "execute_result"
    }
   ],
   "source": [
    "unit_b_mean = cutlets_df['Unit B'].mean() # calculation mean of 'Column B'\n",
    "unit_b_mean"
   ]
  }
 ],
 "metadata": {
  "kernelspec": {
   "display_name": "Python 3 (ipykernel)",
   "language": "python",
   "name": "python3"
  },
  "language_info": {
   "codemirror_mode": {
    "name": "ipython",
    "version": 3
   },
   "file_extension": ".py",
   "mimetype": "text/x-python",
   "name": "python",
   "nbconvert_exporter": "python",
   "pygments_lexer": "ipython3",
   "version": "3.9.7"
  }
 },
 "nbformat": 4,
 "nbformat_minor": 5
}
