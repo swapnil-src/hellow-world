{
 "cells": [
  {
   "cell_type": "markdown",
   "id": "2a1bcc83",
   "metadata": {},
   "source": [
    "## Assignment - 1 "
   ]
  },
  {
   "cell_type": "markdown",
   "id": "fdbdeba2",
   "metadata": {},
   "source": [
    "## ----------------------------------------------------------------------------------------------------------------------------"
   ]
  },
  {
   "cell_type": "markdown",
   "id": "77880357",
   "metadata": {},
   "source": [
    "### 1. Import Necessary Libraires\n"
   ]
  },
  {
   "cell_type": "code",
   "execution_count": 1,
   "id": "eb4b0742",
   "metadata": {},
   "outputs": [],
   "source": [
    "import pandas as pd\n",
    "import numpy as np\n",
    "import statistics\n",
    "import seaborn as sns\n",
    "from scipy import stats \n",
    "from matplotlib import pyplot as plt\n",
    "\n",
    "import warnings\n",
    "warnings.filterwarnings('ignore')"
   ]
  },
  {
   "cell_type": "markdown",
   "id": "0957e600",
   "metadata": {},
   "source": [
    "## ----------------------------------------------------------------------------------------------------------------------------"
   ]
  },
  {
   "cell_type": "markdown",
   "id": "0c7116d4",
   "metadata": {},
   "source": [
    "### Q 7) Calculate Mean, Median, Mode, Variance, Standard Deviation, Range &     comment about the values / draw inferences, for the given dataset"
   ]
  },
  {
   "cell_type": "code",
   "execution_count": 2,
   "id": "fb9587fd",
   "metadata": {},
   "outputs": [
    {
     "data": {
      "text/html": [
       "<div>\n",
       "<style scoped>\n",
       "    .dataframe tbody tr th:only-of-type {\n",
       "        vertical-align: middle;\n",
       "    }\n",
       "\n",
       "    .dataframe tbody tr th {\n",
       "        vertical-align: top;\n",
       "    }\n",
       "\n",
       "    .dataframe thead th {\n",
       "        text-align: right;\n",
       "    }\n",
       "</style>\n",
       "<table border=\"1\" class=\"dataframe\">\n",
       "  <thead>\n",
       "    <tr style=\"text-align: right;\">\n",
       "      <th></th>\n",
       "      <th>Unnamed: 0</th>\n",
       "      <th>Points</th>\n",
       "      <th>Score</th>\n",
       "      <th>Weigh</th>\n",
       "    </tr>\n",
       "  </thead>\n",
       "  <tbody>\n",
       "    <tr>\n",
       "      <th>0</th>\n",
       "      <td>Mazda RX4</td>\n",
       "      <td>3.90</td>\n",
       "      <td>2.620</td>\n",
       "      <td>16.46</td>\n",
       "    </tr>\n",
       "    <tr>\n",
       "      <th>1</th>\n",
       "      <td>Mazda RX4 Wag</td>\n",
       "      <td>3.90</td>\n",
       "      <td>2.875</td>\n",
       "      <td>17.02</td>\n",
       "    </tr>\n",
       "    <tr>\n",
       "      <th>2</th>\n",
       "      <td>Datsun 710</td>\n",
       "      <td>3.85</td>\n",
       "      <td>2.320</td>\n",
       "      <td>18.61</td>\n",
       "    </tr>\n",
       "    <tr>\n",
       "      <th>3</th>\n",
       "      <td>Hornet 4 Drive</td>\n",
       "      <td>3.08</td>\n",
       "      <td>3.215</td>\n",
       "      <td>19.44</td>\n",
       "    </tr>\n",
       "    <tr>\n",
       "      <th>4</th>\n",
       "      <td>Hornet Sportabout</td>\n",
       "      <td>3.15</td>\n",
       "      <td>3.440</td>\n",
       "      <td>17.02</td>\n",
       "    </tr>\n",
       "    <tr>\n",
       "      <th>5</th>\n",
       "      <td>Valiant</td>\n",
       "      <td>2.76</td>\n",
       "      <td>3.460</td>\n",
       "      <td>20.22</td>\n",
       "    </tr>\n",
       "    <tr>\n",
       "      <th>6</th>\n",
       "      <td>Duster 360</td>\n",
       "      <td>3.21</td>\n",
       "      <td>3.570</td>\n",
       "      <td>15.84</td>\n",
       "    </tr>\n",
       "    <tr>\n",
       "      <th>7</th>\n",
       "      <td>Merc 240D</td>\n",
       "      <td>3.69</td>\n",
       "      <td>3.190</td>\n",
       "      <td>20.00</td>\n",
       "    </tr>\n",
       "    <tr>\n",
       "      <th>8</th>\n",
       "      <td>Merc 230</td>\n",
       "      <td>3.92</td>\n",
       "      <td>3.150</td>\n",
       "      <td>22.90</td>\n",
       "    </tr>\n",
       "    <tr>\n",
       "      <th>9</th>\n",
       "      <td>Merc 280</td>\n",
       "      <td>3.92</td>\n",
       "      <td>3.440</td>\n",
       "      <td>18.30</td>\n",
       "    </tr>\n",
       "    <tr>\n",
       "      <th>10</th>\n",
       "      <td>Merc 280C</td>\n",
       "      <td>3.92</td>\n",
       "      <td>3.440</td>\n",
       "      <td>18.90</td>\n",
       "    </tr>\n",
       "    <tr>\n",
       "      <th>11</th>\n",
       "      <td>Merc 450SE</td>\n",
       "      <td>3.07</td>\n",
       "      <td>4.070</td>\n",
       "      <td>17.40</td>\n",
       "    </tr>\n",
       "    <tr>\n",
       "      <th>12</th>\n",
       "      <td>Merc 450SL</td>\n",
       "      <td>3.07</td>\n",
       "      <td>3.730</td>\n",
       "      <td>17.60</td>\n",
       "    </tr>\n",
       "    <tr>\n",
       "      <th>13</th>\n",
       "      <td>Merc 450SLC</td>\n",
       "      <td>3.07</td>\n",
       "      <td>3.780</td>\n",
       "      <td>18.00</td>\n",
       "    </tr>\n",
       "    <tr>\n",
       "      <th>14</th>\n",
       "      <td>Cadillac Fleetwood</td>\n",
       "      <td>2.93</td>\n",
       "      <td>5.250</td>\n",
       "      <td>17.98</td>\n",
       "    </tr>\n",
       "    <tr>\n",
       "      <th>15</th>\n",
       "      <td>Lincoln Continental</td>\n",
       "      <td>3.00</td>\n",
       "      <td>5.424</td>\n",
       "      <td>17.82</td>\n",
       "    </tr>\n",
       "    <tr>\n",
       "      <th>16</th>\n",
       "      <td>Chrysler Imperial</td>\n",
       "      <td>3.23</td>\n",
       "      <td>5.345</td>\n",
       "      <td>17.42</td>\n",
       "    </tr>\n",
       "    <tr>\n",
       "      <th>17</th>\n",
       "      <td>Fiat 128</td>\n",
       "      <td>4.08</td>\n",
       "      <td>2.200</td>\n",
       "      <td>19.47</td>\n",
       "    </tr>\n",
       "    <tr>\n",
       "      <th>18</th>\n",
       "      <td>Honda Civic</td>\n",
       "      <td>4.93</td>\n",
       "      <td>1.615</td>\n",
       "      <td>18.52</td>\n",
       "    </tr>\n",
       "    <tr>\n",
       "      <th>19</th>\n",
       "      <td>Toyota Corolla</td>\n",
       "      <td>4.22</td>\n",
       "      <td>1.835</td>\n",
       "      <td>19.90</td>\n",
       "    </tr>\n",
       "    <tr>\n",
       "      <th>20</th>\n",
       "      <td>Toyota Corona</td>\n",
       "      <td>3.70</td>\n",
       "      <td>2.465</td>\n",
       "      <td>20.01</td>\n",
       "    </tr>\n",
       "    <tr>\n",
       "      <th>21</th>\n",
       "      <td>Dodge Challenger</td>\n",
       "      <td>2.76</td>\n",
       "      <td>3.520</td>\n",
       "      <td>16.87</td>\n",
       "    </tr>\n",
       "    <tr>\n",
       "      <th>22</th>\n",
       "      <td>AMC Javelin</td>\n",
       "      <td>3.15</td>\n",
       "      <td>3.435</td>\n",
       "      <td>17.30</td>\n",
       "    </tr>\n",
       "    <tr>\n",
       "      <th>23</th>\n",
       "      <td>Camaro Z28</td>\n",
       "      <td>3.73</td>\n",
       "      <td>3.840</td>\n",
       "      <td>15.41</td>\n",
       "    </tr>\n",
       "    <tr>\n",
       "      <th>24</th>\n",
       "      <td>Pontiac Firebird</td>\n",
       "      <td>3.08</td>\n",
       "      <td>3.845</td>\n",
       "      <td>17.05</td>\n",
       "    </tr>\n",
       "    <tr>\n",
       "      <th>25</th>\n",
       "      <td>Fiat X1-9</td>\n",
       "      <td>4.08</td>\n",
       "      <td>1.935</td>\n",
       "      <td>18.90</td>\n",
       "    </tr>\n",
       "    <tr>\n",
       "      <th>26</th>\n",
       "      <td>Porsche 914-2</td>\n",
       "      <td>4.43</td>\n",
       "      <td>2.140</td>\n",
       "      <td>16.70</td>\n",
       "    </tr>\n",
       "    <tr>\n",
       "      <th>27</th>\n",
       "      <td>Lotus Europa</td>\n",
       "      <td>3.77</td>\n",
       "      <td>1.513</td>\n",
       "      <td>16.90</td>\n",
       "    </tr>\n",
       "    <tr>\n",
       "      <th>28</th>\n",
       "      <td>Ford Pantera L</td>\n",
       "      <td>4.22</td>\n",
       "      <td>3.170</td>\n",
       "      <td>14.50</td>\n",
       "    </tr>\n",
       "    <tr>\n",
       "      <th>29</th>\n",
       "      <td>Ferrari Dino</td>\n",
       "      <td>3.62</td>\n",
       "      <td>2.770</td>\n",
       "      <td>15.50</td>\n",
       "    </tr>\n",
       "    <tr>\n",
       "      <th>30</th>\n",
       "      <td>Maserati Bora</td>\n",
       "      <td>3.54</td>\n",
       "      <td>3.570</td>\n",
       "      <td>14.60</td>\n",
       "    </tr>\n",
       "    <tr>\n",
       "      <th>31</th>\n",
       "      <td>Volvo 142E</td>\n",
       "      <td>4.11</td>\n",
       "      <td>2.780</td>\n",
       "      <td>18.60</td>\n",
       "    </tr>\n",
       "  </tbody>\n",
       "</table>\n",
       "</div>"
      ],
      "text/plain": [
       "             Unnamed: 0  Points  Score  Weigh\n",
       "0             Mazda RX4    3.90  2.620  16.46\n",
       "1         Mazda RX4 Wag    3.90  2.875  17.02\n",
       "2            Datsun 710    3.85  2.320  18.61\n",
       "3        Hornet 4 Drive    3.08  3.215  19.44\n",
       "4     Hornet Sportabout    3.15  3.440  17.02\n",
       "5               Valiant    2.76  3.460  20.22\n",
       "6            Duster 360    3.21  3.570  15.84\n",
       "7             Merc 240D    3.69  3.190  20.00\n",
       "8              Merc 230    3.92  3.150  22.90\n",
       "9              Merc 280    3.92  3.440  18.30\n",
       "10            Merc 280C    3.92  3.440  18.90\n",
       "11           Merc 450SE    3.07  4.070  17.40\n",
       "12           Merc 450SL    3.07  3.730  17.60\n",
       "13          Merc 450SLC    3.07  3.780  18.00\n",
       "14   Cadillac Fleetwood    2.93  5.250  17.98\n",
       "15  Lincoln Continental    3.00  5.424  17.82\n",
       "16    Chrysler Imperial    3.23  5.345  17.42\n",
       "17             Fiat 128    4.08  2.200  19.47\n",
       "18          Honda Civic    4.93  1.615  18.52\n",
       "19       Toyota Corolla    4.22  1.835  19.90\n",
       "20        Toyota Corona    3.70  2.465  20.01\n",
       "21     Dodge Challenger    2.76  3.520  16.87\n",
       "22          AMC Javelin    3.15  3.435  17.30\n",
       "23           Camaro Z28    3.73  3.840  15.41\n",
       "24     Pontiac Firebird    3.08  3.845  17.05\n",
       "25            Fiat X1-9    4.08  1.935  18.90\n",
       "26        Porsche 914-2    4.43  2.140  16.70\n",
       "27         Lotus Europa    3.77  1.513  16.90\n",
       "28       Ford Pantera L    4.22  3.170  14.50\n",
       "29         Ferrari Dino    3.62  2.770  15.50\n",
       "30        Maserati Bora    3.54  3.570  14.60\n",
       "31           Volvo 142E    4.11  2.780  18.60"
      ]
     },
     "execution_count": 2,
     "metadata": {},
     "output_type": "execute_result"
    }
   ],
   "source": [
    "q7 = pd.read_csv('Q7.csv')\n",
    "q7"
   ]
  },
  {
   "cell_type": "markdown",
   "id": "0acf7856",
   "metadata": {},
   "source": [
    "#### Calculate Mean, Median, Mode, Variance, Standard Deviation, Range for 'Points'"
   ]
  },
  {
   "cell_type": "code",
   "execution_count": 3,
   "id": "eacf8515",
   "metadata": {},
   "outputs": [
    {
     "name": "stdout",
     "output_type": "stream",
     "text": [
      "Mean of Points               : 3.5966\n",
      "Median of Points             : 3.695\n",
      "Mode of Points               : 3.92\n",
      "Multimode of Points          : [3.92, 3.07]\n",
      "Variance of Points           : 0.2769\n",
      "Standard Deviation of Points : 0.5263\n",
      "Range of Points              : 2.76 to 4.93\n"
     ]
    }
   ],
   "source": [
    "print('Mean of Points               :',round(np.mean(q7['Points']),4))\n",
    "print('Median of Points             :',round(np.median(q7['Points']),4))\n",
    "print('Mode of Points               :',statistics.mode(q7['Points']))\n",
    "print('Multimode of Points          :',statistics.multimode(q7['Points']))\n",
    "print('Variance of Points           :',round(np.var(q7['Points']),4))\n",
    "print('Standard Deviation of Points :',round(np.std(q7['Points']),4))\n",
    "print('Range of Points              :', np.min(q7['Points']) ,'to', np.max(q7['Points']))"
   ]
  },
  {
   "cell_type": "markdown",
   "id": "9d047b6c",
   "metadata": {},
   "source": [
    "#### Calculate Mean, Median, Mode, Variance, Standard Deviation, Range for 'Score'"
   ]
  },
  {
   "cell_type": "code",
   "execution_count": 4,
   "id": "57534fc3",
   "metadata": {},
   "outputs": [
    {
     "name": "stdout",
     "output_type": "stream",
     "text": [
      "Mean of Score               : 3.2172\n",
      "Median of Score             : 3.325\n",
      "Mode of Score               : 3.44\n",
      "Variance of Score           : 0.9275\n",
      "Standard Deviation of Score : 0.963\n",
      "Range of Score              : 1.513 to 5.424\n"
     ]
    }
   ],
   "source": [
    "print('Mean of Score               :',round(np.mean(q7['Score']),4))\n",
    "print('Median of Score             :',round(np.median(q7['Score']),4))\n",
    "print('Mode of Score               :',statistics.mode(q7['Score']))\n",
    "print('Variance of Score           :',round(np.var(q7['Score']),4))\n",
    "print('Standard Deviation of Score :',round(np.std(q7['Score']),4))\n",
    "print('Range of Score              :', np.min(q7['Score']) ,'to', np.max(q7['Score']))"
   ]
  },
  {
   "cell_type": "markdown",
   "id": "715540f4",
   "metadata": {},
   "source": [
    "#### Calculate Mean, Median, Mode, Variance, Standard Deviation, Range for 'Weigh'"
   ]
  },
  {
   "cell_type": "code",
   "execution_count": 5,
   "id": "2265703a",
   "metadata": {},
   "outputs": [
    {
     "name": "stdout",
     "output_type": "stream",
     "text": [
      "Mean of Weigh               : 17.8488\n",
      "Median of Weigh             : 17.71\n",
      "Mode of Weigh               : 17.02\n",
      "Multimode of Weigh          : [17.02, 18.9]\n",
      "Variance of Weigh           : 3.0934\n",
      "Standard Deviation of Weigh : 1.7588\n",
      "Range of Weigh              : 14.5 to 22.9\n"
     ]
    }
   ],
   "source": [
    "print('Mean of Weigh               :',round(np.mean(q7['Weigh']),4))\n",
    "print('Median of Weigh             :',round(np.median(q7['Weigh']),4))\n",
    "print('Mode of Weigh               :',statistics.mode(q7['Weigh']))\n",
    "print('Multimode of Weigh          :',statistics.multimode(q7['Weigh']))\n",
    "print('Variance of Weigh           :',round(np.var(q7['Weigh']),4))\n",
    "print('Standard Deviation of Weigh :',round(np.std(q7['Weigh']),4))\n",
    "print('Range of Weigh              :', np.min(q7['Weigh']) ,'to', np.max(q7['Weigh']))"
   ]
  },
  {
   "cell_type": "code",
   "execution_count": 80,
   "id": "473c9d40",
   "metadata": {},
   "outputs": [
    {
     "data": {
      "image/png": "[encoded data removed]",
      "text/plain": [
       "<Figure size 504x288 with 1 Axes>"
      ]
     },
     "metadata": {
      "needs_background": "light"
     },
     "output_type": "display_data"
    }
   ],
   "source": [
    "plt.figure(figsize=(7,4))\n",
    "plt.plot(q7['Points'])\n",
    "plt.plot(q7['Score'])\n",
    "plt.plot(q7['Weigh'])\n",
    "plt.grid(axis='y')\n",
    "plt.xticks(range(1,37,2))\n",
    "plt.show()"
   ]
  },
  {
   "cell_type": "markdown",
   "id": "d92dc7b8",
   "metadata": {},
   "source": [
    "## ----------------------------------------------------------------------------------------------------------------------------"
   ]
  },
  {
   "cell_type": "markdown",
   "id": "0e5187e8",
   "metadata": {},
   "source": [
    "### Q9) Calculate Skewness, Kurtosis & draw inferences on the following data Cars speed and distance \n"
   ]
  },
  {
   "cell_type": "code",
   "execution_count": 6,
   "id": "23b784c8",
   "metadata": {},
   "outputs": [
    {
     "data": {
      "text/html": [
       "<div>\n",
       "<style scoped>\n",
       "    .dataframe tbody tr th:only-of-type {\n",
       "        vertical-align: middle;\n",
       "    }\n",
       "\n",
       "    .dataframe tbody tr th {\n",
       "        vertical-align: top;\n",
       "    }\n",
       "\n",
       "    .dataframe thead th {\n",
       "        text-align: right;\n",
       "    }\n",
       "</style>\n",
       "<table border=\"1\" class=\"dataframe\">\n",
       "  <thead>\n",
       "    <tr style=\"text-align: right;\">\n",
       "      <th></th>\n",
       "      <th>Index</th>\n",
       "      <th>speed</th>\n",
       "      <th>dist</th>\n",
       "    </tr>\n",
       "  </thead>\n",
       "  <tbody>\n",
       "    <tr>\n",
       "      <th>0</th>\n",
       "      <td>1</td>\n",
       "      <td>4</td>\n",
       "      <td>2</td>\n",
       "    </tr>\n",
       "    <tr>\n",
       "      <th>1</th>\n",
       "      <td>2</td>\n",
       "      <td>4</td>\n",
       "      <td>10</td>\n",
       "    </tr>\n",
       "    <tr>\n",
       "      <th>2</th>\n",
       "      <td>3</td>\n",
       "      <td>7</td>\n",
       "      <td>4</td>\n",
       "    </tr>\n",
       "    <tr>\n",
       "      <th>3</th>\n",
       "      <td>4</td>\n",
       "      <td>7</td>\n",
       "      <td>22</td>\n",
       "    </tr>\n",
       "    <tr>\n",
       "      <th>4</th>\n",
       "      <td>5</td>\n",
       "      <td>8</td>\n",
       "      <td>16</td>\n",
       "    </tr>\n",
       "    <tr>\n",
       "      <th>5</th>\n",
       "      <td>6</td>\n",
       "      <td>9</td>\n",
       "      <td>10</td>\n",
       "    </tr>\n",
       "    <tr>\n",
       "      <th>6</th>\n",
       "      <td>7</td>\n",
       "      <td>10</td>\n",
       "      <td>18</td>\n",
       "    </tr>\n",
       "    <tr>\n",
       "      <th>7</th>\n",
       "      <td>8</td>\n",
       "      <td>10</td>\n",
       "      <td>26</td>\n",
       "    </tr>\n",
       "    <tr>\n",
       "      <th>8</th>\n",
       "      <td>9</td>\n",
       "      <td>10</td>\n",
       "      <td>34</td>\n",
       "    </tr>\n",
       "    <tr>\n",
       "      <th>9</th>\n",
       "      <td>10</td>\n",
       "      <td>11</td>\n",
       "      <td>17</td>\n",
       "    </tr>\n",
       "    <tr>\n",
       "      <th>10</th>\n",
       "      <td>11</td>\n",
       "      <td>11</td>\n",
       "      <td>28</td>\n",
       "    </tr>\n",
       "    <tr>\n",
       "      <th>11</th>\n",
       "      <td>12</td>\n",
       "      <td>12</td>\n",
       "      <td>14</td>\n",
       "    </tr>\n",
       "    <tr>\n",
       "      <th>12</th>\n",
       "      <td>13</td>\n",
       "      <td>12</td>\n",
       "      <td>20</td>\n",
       "    </tr>\n",
       "    <tr>\n",
       "      <th>13</th>\n",
       "      <td>14</td>\n",
       "      <td>12</td>\n",
       "      <td>24</td>\n",
       "    </tr>\n",
       "    <tr>\n",
       "      <th>14</th>\n",
       "      <td>15</td>\n",
       "      <td>12</td>\n",
       "      <td>28</td>\n",
       "    </tr>\n",
       "    <tr>\n",
       "      <th>15</th>\n",
       "      <td>16</td>\n",
       "      <td>13</td>\n",
       "      <td>26</td>\n",
       "    </tr>\n",
       "    <tr>\n",
       "      <th>16</th>\n",
       "      <td>17</td>\n",
       "      <td>13</td>\n",
       "      <td>34</td>\n",
       "    </tr>\n",
       "    <tr>\n",
       "      <th>17</th>\n",
       "      <td>18</td>\n",
       "      <td>13</td>\n",
       "      <td>34</td>\n",
       "    </tr>\n",
       "    <tr>\n",
       "      <th>18</th>\n",
       "      <td>19</td>\n",
       "      <td>13</td>\n",
       "      <td>46</td>\n",
       "    </tr>\n",
       "    <tr>\n",
       "      <th>19</th>\n",
       "      <td>20</td>\n",
       "      <td>14</td>\n",
       "      <td>26</td>\n",
       "    </tr>\n",
       "    <tr>\n",
       "      <th>20</th>\n",
       "      <td>21</td>\n",
       "      <td>14</td>\n",
       "      <td>36</td>\n",
       "    </tr>\n",
       "    <tr>\n",
       "      <th>21</th>\n",
       "      <td>22</td>\n",
       "      <td>14</td>\n",
       "      <td>60</td>\n",
       "    </tr>\n",
       "    <tr>\n",
       "      <th>22</th>\n",
       "      <td>23</td>\n",
       "      <td>14</td>\n",
       "      <td>80</td>\n",
       "    </tr>\n",
       "    <tr>\n",
       "      <th>23</th>\n",
       "      <td>24</td>\n",
       "      <td>15</td>\n",
       "      <td>20</td>\n",
       "    </tr>\n",
       "    <tr>\n",
       "      <th>24</th>\n",
       "      <td>25</td>\n",
       "      <td>15</td>\n",
       "      <td>26</td>\n",
       "    </tr>\n",
       "    <tr>\n",
       "      <th>25</th>\n",
       "      <td>26</td>\n",
       "      <td>15</td>\n",
       "      <td>54</td>\n",
       "    </tr>\n",
       "    <tr>\n",
       "      <th>26</th>\n",
       "      <td>27</td>\n",
       "      <td>16</td>\n",
       "      <td>32</td>\n",
       "    </tr>\n",
       "    <tr>\n",
       "      <th>27</th>\n",
       "      <td>28</td>\n",
       "      <td>16</td>\n",
       "      <td>40</td>\n",
       "    </tr>\n",
       "    <tr>\n",
       "      <th>28</th>\n",
       "      <td>29</td>\n",
       "      <td>17</td>\n",
       "      <td>32</td>\n",
       "    </tr>\n",
       "    <tr>\n",
       "      <th>29</th>\n",
       "      <td>30</td>\n",
       "      <td>17</td>\n",
       "      <td>40</td>\n",
       "    </tr>\n",
       "    <tr>\n",
       "      <th>30</th>\n",
       "      <td>31</td>\n",
       "      <td>17</td>\n",
       "      <td>50</td>\n",
       "    </tr>\n",
       "    <tr>\n",
       "      <th>31</th>\n",
       "      <td>32</td>\n",
       "      <td>18</td>\n",
       "      <td>42</td>\n",
       "    </tr>\n",
       "    <tr>\n",
       "      <th>32</th>\n",
       "      <td>33</td>\n",
       "      <td>18</td>\n",
       "      <td>56</td>\n",
       "    </tr>\n",
       "    <tr>\n",
       "      <th>33</th>\n",
       "      <td>34</td>\n",
       "      <td>18</td>\n",
       "      <td>76</td>\n",
       "    </tr>\n",
       "    <tr>\n",
       "      <th>34</th>\n",
       "      <td>35</td>\n",
       "      <td>18</td>\n",
       "      <td>84</td>\n",
       "    </tr>\n",
       "    <tr>\n",
       "      <th>35</th>\n",
       "      <td>36</td>\n",
       "      <td>19</td>\n",
       "      <td>36</td>\n",
       "    </tr>\n",
       "    <tr>\n",
       "      <th>36</th>\n",
       "      <td>37</td>\n",
       "      <td>19</td>\n",
       "      <td>46</td>\n",
       "    </tr>\n",
       "    <tr>\n",
       "      <th>37</th>\n",
       "      <td>38</td>\n",
       "      <td>19</td>\n",
       "      <td>68</td>\n",
       "    </tr>\n",
       "    <tr>\n",
       "      <th>38</th>\n",
       "      <td>39</td>\n",
       "      <td>20</td>\n",
       "      <td>32</td>\n",
       "    </tr>\n",
       "    <tr>\n",
       "      <th>39</th>\n",
       "      <td>40</td>\n",
       "      <td>20</td>\n",
       "      <td>48</td>\n",
       "    </tr>\n",
       "    <tr>\n",
       "      <th>40</th>\n",
       "      <td>41</td>\n",
       "      <td>20</td>\n",
       "      <td>52</td>\n",
       "    </tr>\n",
       "    <tr>\n",
       "      <th>41</th>\n",
       "      <td>42</td>\n",
       "      <td>20</td>\n",
       "      <td>56</td>\n",
       "    </tr>\n",
       "    <tr>\n",
       "      <th>42</th>\n",
       "      <td>43</td>\n",
       "      <td>20</td>\n",
       "      <td>64</td>\n",
       "    </tr>\n",
       "    <tr>\n",
       "      <th>43</th>\n",
       "      <td>44</td>\n",
       "      <td>22</td>\n",
       "      <td>66</td>\n",
       "    </tr>\n",
       "    <tr>\n",
       "      <th>44</th>\n",
       "      <td>45</td>\n",
       "      <td>23</td>\n",
       "      <td>54</td>\n",
       "    </tr>\n",
       "    <tr>\n",
       "      <th>45</th>\n",
       "      <td>46</td>\n",
       "      <td>24</td>\n",
       "      <td>70</td>\n",
       "    </tr>\n",
       "    <tr>\n",
       "      <th>46</th>\n",
       "      <td>47</td>\n",
       "      <td>24</td>\n",
       "      <td>92</td>\n",
       "    </tr>\n",
       "    <tr>\n",
       "      <th>47</th>\n",
       "      <td>48</td>\n",
       "      <td>24</td>\n",
       "      <td>93</td>\n",
       "    </tr>\n",
       "    <tr>\n",
       "      <th>48</th>\n",
       "      <td>49</td>\n",
       "      <td>24</td>\n",
       "      <td>120</td>\n",
       "    </tr>\n",
       "    <tr>\n",
       "      <th>49</th>\n",
       "      <td>50</td>\n",
       "      <td>25</td>\n",
       "      <td>85</td>\n",
       "    </tr>\n",
       "  </tbody>\n",
       "</table>\n",
       "</div>"
      ],
      "text/plain": [
       "    Index  speed  dist\n",
       "0       1      4     2\n",
       "1       2      4    10\n",
       "2       3      7     4\n",
       "3       4      7    22\n",
       "4       5      8    16\n",
       "5       6      9    10\n",
       "6       7     10    18\n",
       "7       8     10    26\n",
       "8       9     10    34\n",
       "9      10     11    17\n",
       "10     11     11    28\n",
       "11     12     12    14\n",
       "12     13     12    20\n",
       "13     14     12    24\n",
       "14     15     12    28\n",
       "15     16     13    26\n",
       "16     17     13    34\n",
       "17     18     13    34\n",
       "18     19     13    46\n",
       "19     20     14    26\n",
       "20     21     14    36\n",
       "21     22     14    60\n",
       "22     23     14    80\n",
       "23     24     15    20\n",
       "24     25     15    26\n",
       "25     26     15    54\n",
       "26     27     16    32\n",
       "27     28     16    40\n",
       "28     29     17    32\n",
       "29     30     17    40\n",
       "30     31     17    50\n",
       "31     32     18    42\n",
       "32     33     18    56\n",
       "33     34     18    76\n",
       "34     35     18    84\n",
       "35     36     19    36\n",
       "36     37     19    46\n",
       "37     38     19    68\n",
       "38     39     20    32\n",
       "39     40     20    48\n",
       "40     41     20    52\n",
       "41     42     20    56\n",
       "42     43     20    64\n",
       "43     44     22    66\n",
       "44     45     23    54\n",
       "45     46     24    70\n",
       "46     47     24    92\n",
       "47     48     24    93\n",
       "48     49     24   120\n",
       "49     50     25    85"
      ]
     },
     "execution_count": 6,
     "metadata": {},
     "output_type": "execute_result"
    }
   ],
   "source": [
    "q9_a = pd.read_csv('Q9_a.csv')\n",
    "q9_a"
   ]
  },
  {
   "cell_type": "markdown",
   "id": "593b6c70",
   "metadata": {},
   "source": [
    "#### Calculate Skewness & Kurtosis for speed"
   ]
  },
  {
   "cell_type": "code",
   "execution_count": 7,
   "id": "be4b61d4",
   "metadata": {},
   "outputs": [
    {
     "name": "stdout",
     "output_type": "stream",
     "text": [
      "Skewness of speed : -0.1175\n",
      "Kurtosis of speed : -0.509\n"
     ]
    }
   ],
   "source": [
    "print('Skewness of speed :',round(q9_a['speed'].skew(),4))\n",
    "print('Kurtosis of speed :',round(q9_a['speed'].kurt(),4))"
   ]
  },
  {
   "cell_type": "markdown",
   "id": "cdf1ee8a",
   "metadata": {},
   "source": [
    "##### **Inference**:The distribution of speed is slightly negatively skewed and playkurtic."
   ]
  },
  {
   "cell_type": "markdown",
   "id": "4d87b357",
   "metadata": {},
   "source": [
    "#### Calculate Skewness & Kurtosis for distance"
   ]
  },
  {
   "cell_type": "code",
   "execution_count": 8,
   "id": "43112019",
   "metadata": {},
   "outputs": [
    {
     "name": "stdout",
     "output_type": "stream",
     "text": [
      "Skewness of distance : 0.8069\n",
      "Kurtosis of distance : 0.4051\n"
     ]
    }
   ],
   "source": [
    "print('Skewness of distance :',round(q9_a['dist'].skew(),4))\n",
    "print('Kurtosis of distance :',round(q9_a['dist'].kurt(),4))"
   ]
  },
  {
   "cell_type": "markdown",
   "id": "ce3b916f",
   "metadata": {},
   "source": [
    "##### Inference: The distribution of speed is slightly positively skewed and playkurtic."
   ]
  },
  {
   "cell_type": "code",
   "execution_count": 9,
   "id": "49bdfa1e",
   "metadata": {},
   "outputs": [
    {
     "data": {
      "text/html": [
       "<div>\n",
       "<style scoped>\n",
       "    .dataframe tbody tr th:only-of-type {\n",
       "        vertical-align: middle;\n",
       "    }\n",
       "\n",
       "    .dataframe tbody tr th {\n",
       "        vertical-align: top;\n",
       "    }\n",
       "\n",
       "    .dataframe thead th {\n",
       "        text-align: right;\n",
       "    }\n",
       "</style>\n",
       "<table border=\"1\" class=\"dataframe\">\n",
       "  <thead>\n",
       "    <tr style=\"text-align: right;\">\n",
       "      <th></th>\n",
       "      <th>Unnamed: 0</th>\n",
       "      <th>SP</th>\n",
       "      <th>WT</th>\n",
       "    </tr>\n",
       "  </thead>\n",
       "  <tbody>\n",
       "    <tr>\n",
       "      <th>0</th>\n",
       "      <td>1</td>\n",
       "      <td>104.185353</td>\n",
       "      <td>28.762059</td>\n",
       "    </tr>\n",
       "    <tr>\n",
       "      <th>1</th>\n",
       "      <td>2</td>\n",
       "      <td>105.461264</td>\n",
       "      <td>30.466833</td>\n",
       "    </tr>\n",
       "    <tr>\n",
       "      <th>2</th>\n",
       "      <td>3</td>\n",
       "      <td>105.461264</td>\n",
       "      <td>30.193597</td>\n",
       "    </tr>\n",
       "    <tr>\n",
       "      <th>3</th>\n",
       "      <td>4</td>\n",
       "      <td>113.461264</td>\n",
       "      <td>30.632114</td>\n",
       "    </tr>\n",
       "    <tr>\n",
       "      <th>4</th>\n",
       "      <td>5</td>\n",
       "      <td>104.461264</td>\n",
       "      <td>29.889149</td>\n",
       "    </tr>\n",
       "    <tr>\n",
       "      <th>...</th>\n",
       "      <td>...</td>\n",
       "      <td>...</td>\n",
       "      <td>...</td>\n",
       "    </tr>\n",
       "    <tr>\n",
       "      <th>76</th>\n",
       "      <td>77</td>\n",
       "      <td>169.598513</td>\n",
       "      <td>16.132947</td>\n",
       "    </tr>\n",
       "    <tr>\n",
       "      <th>77</th>\n",
       "      <td>78</td>\n",
       "      <td>150.576579</td>\n",
       "      <td>37.923113</td>\n",
       "    </tr>\n",
       "    <tr>\n",
       "      <th>78</th>\n",
       "      <td>79</td>\n",
       "      <td>151.598513</td>\n",
       "      <td>15.769625</td>\n",
       "    </tr>\n",
       "    <tr>\n",
       "      <th>79</th>\n",
       "      <td>80</td>\n",
       "      <td>167.944460</td>\n",
       "      <td>39.423099</td>\n",
       "    </tr>\n",
       "    <tr>\n",
       "      <th>80</th>\n",
       "      <td>81</td>\n",
       "      <td>139.840817</td>\n",
       "      <td>34.948615</td>\n",
       "    </tr>\n",
       "  </tbody>\n",
       "</table>\n",
       "<p>81 rows × 3 columns</p>\n",
       "</div>"
      ],
      "text/plain": [
       "    Unnamed: 0          SP         WT\n",
       "0            1  104.185353  28.762059\n",
       "1            2  105.461264  30.466833\n",
       "2            3  105.461264  30.193597\n",
       "3            4  113.461264  30.632114\n",
       "4            5  104.461264  29.889149\n",
       "..         ...         ...        ...\n",
       "76          77  169.598513  16.132947\n",
       "77          78  150.576579  37.923113\n",
       "78          79  151.598513  15.769625\n",
       "79          80  167.944460  39.423099\n",
       "80          81  139.840817  34.948615\n",
       "\n",
       "[81 rows x 3 columns]"
      ]
     },
     "execution_count": 9,
     "metadata": {},
     "output_type": "execute_result"
    }
   ],
   "source": [
    "q9_b = pd.read_csv('Q9_b.csv')\n",
    "q9_b"
   ]
  },
  {
   "cell_type": "markdown",
   "id": "12a40885",
   "metadata": {},
   "source": [
    "#### Calculate Skewness & Kurtosis for SP"
   ]
  },
  {
   "cell_type": "code",
   "execution_count": 10,
   "id": "be14cecb",
   "metadata": {},
   "outputs": [
    {
     "name": "stdout",
     "output_type": "stream",
     "text": [
      "Skewness of SP : 1.6115\n",
      "Kurtosis of SP : 2.9773\n"
     ]
    }
   ],
   "source": [
    "print('Skewness of SP :',round(q9_b['SP'].skew(),4))\n",
    "print('Kurtosis of SP :',round(q9_b['SP'].kurt(),4))"
   ]
  },
  {
   "cell_type": "markdown",
   "id": "f0906974",
   "metadata": {},
   "source": [
    "##### Inference: The distribution of speed is positively skewed and playkurtic."
   ]
  },
  {
   "cell_type": "markdown",
   "id": "17ae3c8a",
   "metadata": {},
   "source": [
    "#### Calculate Skewness & Kurtosis for WT"
   ]
  },
  {
   "cell_type": "code",
   "execution_count": 11,
   "id": "d8643c7d",
   "metadata": {},
   "outputs": [
    {
     "name": "stdout",
     "output_type": "stream",
     "text": [
      "Skewness of WT : -0.6148\n",
      "Kurtosis of WT : 0.9503\n"
     ]
    }
   ],
   "source": [
    "print('Skewness of WT :',round(q9_b['WT'].skew(),4))\n",
    "print('Kurtosis of WT :',round(q9_b['WT'].kurt(),4))"
   ]
  },
  {
   "cell_type": "markdown",
   "id": "b0f11eb2",
   "metadata": {},
   "source": [
    "##### Inference: The distribution of speed is slightly negatively skewed and playkurtic."
   ]
  },
  {
   "cell_type": "markdown",
   "id": "595ead5c",
   "metadata": {},
   "source": [
    "## ----------------------------------------------------------------------------------------------------------------------------"
   ]
  },
  {
   "cell_type": "markdown",
   "id": "9bcaa461",
   "metadata": {},
   "source": [
    "### Q.11 Suppose we want to estimate the average weight of an adult male in    Mexico. We draw a random sample of 2,000 men from a population of 3,000,000 men and weigh them. We find that the average person in our sample weighs 200 pounds, and the standard deviation of the sample is 30 pounds. Calculate 94%, 98%, 96% confidence interval?\n"
   ]
  },
  {
   "cell_type": "code",
   "execution_count": 12,
   "id": "7e8427d3",
   "metadata": {},
   "outputs": [
    {
     "name": "stdout",
     "output_type": "stream",
     "text": [
      "The average weight of an adult in Mexico with 94% Confidence Interval is:  [198.7383 201.2617]\n"
     ]
    }
   ],
   "source": [
    "ci_94 = stats.norm.interval(alpha=0.94, loc=200, scale=(30/pow(2000,0.5)))\n",
    "print('The average weight of an adult in Mexico with 94% Confidence Interval is: ',np.round(ci_94,4))"
   ]
  },
  {
   "cell_type": "code",
   "execution_count": 13,
   "id": "03ad93d2",
   "metadata": {},
   "outputs": [
    {
     "name": "stdout",
     "output_type": "stream",
     "text": [
      "The average weight of an adult in Mexico with 98% Confidence Interval is:  [198.4394 201.5606]\n"
     ]
    }
   ],
   "source": [
    "ci_98 = stats.norm.interval(alpha=0.98, loc=200, scale=(30/pow(2000,0.5)))\n",
    "print('The average weight of an adult in Mexico with 98% Confidence Interval is: ',np.round(ci_98,4))"
   ]
  },
  {
   "cell_type": "code",
   "execution_count": 14,
   "id": "e82b4238",
   "metadata": {},
   "outputs": [
    {
     "name": "stdout",
     "output_type": "stream",
     "text": [
      "The average weight of an adult in Mexico with 96% Confidence Interval is:  [198.6223 201.3777]\n"
     ]
    }
   ],
   "source": [
    "ci_96 = stats.norm.interval(alpha=0.96, loc=200, scale=(30/pow(2000,0.5)))\n",
    "print('The average weight of an adult in Mexico with 96% Confidence Interval is: ',np.round(ci_96,4))"
   ]
  },
  {
   "cell_type": "markdown",
   "id": "7837a270",
   "metadata": {},
   "source": [
    "## ----------------------------------------------------------------------------------------------------------------------------"
   ]
  },
  {
   "cell_type": "markdown",
   "id": "cde6356d",
   "metadata": {},
   "source": [
    "### Cross checking the answers of Q.12 with python code\n"
   ]
  },
  {
   "cell_type": "code",
   "execution_count": 15,
   "id": "0607b152",
   "metadata": {},
   "outputs": [
    {
     "data": {
      "text/html": [
       "<div>\n",
       "<style scoped>\n",
       "    .dataframe tbody tr th:only-of-type {\n",
       "        vertical-align: middle;\n",
       "    }\n",
       "\n",
       "    .dataframe tbody tr th {\n",
       "        vertical-align: top;\n",
       "    }\n",
       "\n",
       "    .dataframe thead th {\n",
       "        text-align: right;\n",
       "    }\n",
       "</style>\n",
       "<table border=\"1\" class=\"dataframe\">\n",
       "  <thead>\n",
       "    <tr style=\"text-align: right;\">\n",
       "      <th></th>\n",
       "      <th>values</th>\n",
       "    </tr>\n",
       "  </thead>\n",
       "  <tbody>\n",
       "    <tr>\n",
       "      <th>0</th>\n",
       "      <td>34</td>\n",
       "    </tr>\n",
       "    <tr>\n",
       "      <th>1</th>\n",
       "      <td>36</td>\n",
       "    </tr>\n",
       "    <tr>\n",
       "      <th>2</th>\n",
       "      <td>36</td>\n",
       "    </tr>\n",
       "    <tr>\n",
       "      <th>3</th>\n",
       "      <td>38</td>\n",
       "    </tr>\n",
       "    <tr>\n",
       "      <th>4</th>\n",
       "      <td>38</td>\n",
       "    </tr>\n",
       "    <tr>\n",
       "      <th>5</th>\n",
       "      <td>39</td>\n",
       "    </tr>\n",
       "    <tr>\n",
       "      <th>6</th>\n",
       "      <td>39</td>\n",
       "    </tr>\n",
       "    <tr>\n",
       "      <th>7</th>\n",
       "      <td>40</td>\n",
       "    </tr>\n",
       "    <tr>\n",
       "      <th>8</th>\n",
       "      <td>40</td>\n",
       "    </tr>\n",
       "    <tr>\n",
       "      <th>9</th>\n",
       "      <td>41</td>\n",
       "    </tr>\n",
       "    <tr>\n",
       "      <th>10</th>\n",
       "      <td>41</td>\n",
       "    </tr>\n",
       "    <tr>\n",
       "      <th>11</th>\n",
       "      <td>41</td>\n",
       "    </tr>\n",
       "    <tr>\n",
       "      <th>12</th>\n",
       "      <td>41</td>\n",
       "    </tr>\n",
       "    <tr>\n",
       "      <th>13</th>\n",
       "      <td>42</td>\n",
       "    </tr>\n",
       "    <tr>\n",
       "      <th>14</th>\n",
       "      <td>42</td>\n",
       "    </tr>\n",
       "    <tr>\n",
       "      <th>15</th>\n",
       "      <td>45</td>\n",
       "    </tr>\n",
       "    <tr>\n",
       "      <th>16</th>\n",
       "      <td>49</td>\n",
       "    </tr>\n",
       "    <tr>\n",
       "      <th>17</th>\n",
       "      <td>56</td>\n",
       "    </tr>\n",
       "  </tbody>\n",
       "</table>\n",
       "</div>"
      ],
      "text/plain": [
       "    values\n",
       "0       34\n",
       "1       36\n",
       "2       36\n",
       "3       38\n",
       "4       38\n",
       "5       39\n",
       "6       39\n",
       "7       40\n",
       "8       40\n",
       "9       41\n",
       "10      41\n",
       "11      41\n",
       "12      41\n",
       "13      42\n",
       "14      42\n",
       "15      45\n",
       "16      49\n",
       "17      56"
      ]
     },
     "execution_count": 15,
     "metadata": {},
     "output_type": "execute_result"
    }
   ],
   "source": [
    "book_2 = pd.read_excel('Book2.xlsx')\n",
    "book_2"
   ]
  },
  {
   "cell_type": "code",
   "execution_count": 16,
   "id": "d0848d38",
   "metadata": {},
   "outputs": [
    {
     "data": {
      "text/plain": [
       "values    41.0\n",
       "dtype: float64"
      ]
     },
     "execution_count": 16,
     "metadata": {},
     "output_type": "execute_result"
    }
   ],
   "source": [
    "np.mean(book_2)"
   ]
  },
  {
   "cell_type": "code",
   "execution_count": 17,
   "id": "e0ab9456",
   "metadata": {},
   "outputs": [
    {
     "data": {
      "text/plain": [
       "40.5"
      ]
     },
     "execution_count": 17,
     "metadata": {},
     "output_type": "execute_result"
    }
   ],
   "source": [
    "np.median(book_2)"
   ]
  },
  {
   "cell_type": "code",
   "execution_count": 18,
   "id": "65a94bfd",
   "metadata": {},
   "outputs": [
    {
     "data": {
      "text/plain": [
       "41"
      ]
     },
     "execution_count": 18,
     "metadata": {},
     "output_type": "execute_result"
    }
   ],
   "source": [
    "statistics.mode(book_2['values'])"
   ]
  },
  {
   "cell_type": "code",
   "execution_count": 19,
   "id": "7628faaa",
   "metadata": {},
   "outputs": [
    {
     "data": {
      "text/plain": [
       "values    24.111111\n",
       "dtype: float64"
      ]
     },
     "execution_count": 19,
     "metadata": {},
     "output_type": "execute_result"
    }
   ],
   "source": [
    "np.var(book_2)"
   ]
  },
  {
   "cell_type": "code",
   "execution_count": 20,
   "id": "3c3861a8",
   "metadata": {},
   "outputs": [
    {
     "data": {
      "text/plain": [
       "values    4.910307\n",
       "dtype: float64"
      ]
     },
     "execution_count": 20,
     "metadata": {},
     "output_type": "execute_result"
    }
   ],
   "source": [
    "np.std(book_2)"
   ]
  },
  {
   "cell_type": "markdown",
   "id": "752fc99d",
   "metadata": {},
   "source": [
    "## ----------------------------------------------------------------------------------------------------------------------------"
   ]
  },
  {
   "cell_type": "markdown",
   "id": "1b95f6d7",
   "metadata": {},
   "source": [
    "### Q 20) Calculate probability from the given dataset for the below cases\n",
    "    a.  P(MPG>38)\n",
    "    b.  P(MPG<40)\n",
    "    c.  P(20<MPG<50)\n"
   ]
  },
  {
   "cell_type": "code",
   "execution_count": 21,
   "id": "25845abc",
   "metadata": {},
   "outputs": [
    {
     "data": {
      "text/html": [
       "<div>\n",
       "<style scoped>\n",
       "    .dataframe tbody tr th:only-of-type {\n",
       "        vertical-align: middle;\n",
       "    }\n",
       "\n",
       "    .dataframe tbody tr th {\n",
       "        vertical-align: top;\n",
       "    }\n",
       "\n",
       "    .dataframe thead th {\n",
       "        text-align: right;\n",
       "    }\n",
       "</style>\n",
       "<table border=\"1\" class=\"dataframe\">\n",
       "  <thead>\n",
       "    <tr style=\"text-align: right;\">\n",
       "      <th></th>\n",
       "      <th>HP</th>\n",
       "      <th>MPG</th>\n",
       "      <th>VOL</th>\n",
       "      <th>SP</th>\n",
       "      <th>WT</th>\n",
       "    </tr>\n",
       "  </thead>\n",
       "  <tbody>\n",
       "    <tr>\n",
       "      <th>0</th>\n",
       "      <td>49</td>\n",
       "      <td>53.700681</td>\n",
       "      <td>89</td>\n",
       "      <td>104.185353</td>\n",
       "      <td>28.762059</td>\n",
       "    </tr>\n",
       "    <tr>\n",
       "      <th>1</th>\n",
       "      <td>55</td>\n",
       "      <td>50.013401</td>\n",
       "      <td>92</td>\n",
       "      <td>105.461264</td>\n",
       "      <td>30.466833</td>\n",
       "    </tr>\n",
       "    <tr>\n",
       "      <th>2</th>\n",
       "      <td>55</td>\n",
       "      <td>50.013401</td>\n",
       "      <td>92</td>\n",
       "      <td>105.461264</td>\n",
       "      <td>30.193597</td>\n",
       "    </tr>\n",
       "    <tr>\n",
       "      <th>3</th>\n",
       "      <td>70</td>\n",
       "      <td>45.696322</td>\n",
       "      <td>92</td>\n",
       "      <td>113.461264</td>\n",
       "      <td>30.632114</td>\n",
       "    </tr>\n",
       "    <tr>\n",
       "      <th>4</th>\n",
       "      <td>53</td>\n",
       "      <td>50.504232</td>\n",
       "      <td>92</td>\n",
       "      <td>104.461264</td>\n",
       "      <td>29.889149</td>\n",
       "    </tr>\n",
       "    <tr>\n",
       "      <th>...</th>\n",
       "      <td>...</td>\n",
       "      <td>...</td>\n",
       "      <td>...</td>\n",
       "      <td>...</td>\n",
       "      <td>...</td>\n",
       "    </tr>\n",
       "    <tr>\n",
       "      <th>76</th>\n",
       "      <td>322</td>\n",
       "      <td>36.900000</td>\n",
       "      <td>50</td>\n",
       "      <td>169.598513</td>\n",
       "      <td>16.132947</td>\n",
       "    </tr>\n",
       "    <tr>\n",
       "      <th>77</th>\n",
       "      <td>238</td>\n",
       "      <td>19.197888</td>\n",
       "      <td>115</td>\n",
       "      <td>150.576579</td>\n",
       "      <td>37.923113</td>\n",
       "    </tr>\n",
       "    <tr>\n",
       "      <th>78</th>\n",
       "      <td>263</td>\n",
       "      <td>34.000000</td>\n",
       "      <td>50</td>\n",
       "      <td>151.598513</td>\n",
       "      <td>15.769625</td>\n",
       "    </tr>\n",
       "    <tr>\n",
       "      <th>79</th>\n",
       "      <td>295</td>\n",
       "      <td>19.833733</td>\n",
       "      <td>119</td>\n",
       "      <td>167.944460</td>\n",
       "      <td>39.423099</td>\n",
       "    </tr>\n",
       "    <tr>\n",
       "      <th>80</th>\n",
       "      <td>236</td>\n",
       "      <td>12.101263</td>\n",
       "      <td>107</td>\n",
       "      <td>139.840817</td>\n",
       "      <td>34.948615</td>\n",
       "    </tr>\n",
       "  </tbody>\n",
       "</table>\n",
       "<p>81 rows × 5 columns</p>\n",
       "</div>"
      ],
      "text/plain": [
       "     HP        MPG  VOL          SP         WT\n",
       "0    49  53.700681   89  104.185353  28.762059\n",
       "1    55  50.013401   92  105.461264  30.466833\n",
       "2    55  50.013401   92  105.461264  30.193597\n",
       "3    70  45.696322   92  113.461264  30.632114\n",
       "4    53  50.504232   92  104.461264  29.889149\n",
       "..  ...        ...  ...         ...        ...\n",
       "76  322  36.900000   50  169.598513  16.132947\n",
       "77  238  19.197888  115  150.576579  37.923113\n",
       "78  263  34.000000   50  151.598513  15.769625\n",
       "79  295  19.833733  119  167.944460  39.423099\n",
       "80  236  12.101263  107  139.840817  34.948615\n",
       "\n",
       "[81 rows x 5 columns]"
      ]
     },
     "execution_count": 21,
     "metadata": {},
     "output_type": "execute_result"
    }
   ],
   "source": [
    "cars_data = pd.read_csv('Cars.csv')\n",
    "cars_data"
   ]
  },
  {
   "cell_type": "code",
   "execution_count": 22,
   "id": "5c99bd60",
   "metadata": {},
   "outputs": [
    {
     "data": {
      "image/png": "[encoded data removed]",
      "text/plain": [
       "<Figure size 432x288 with 1 Axes>"
      ]
     },
     "metadata": {
      "needs_background": "light"
     },
     "output_type": "display_data"
    }
   ],
   "source": [
    "sns.distplot(a=cars_data['MPG'])\n",
    "plt.title('Distplot for MPG')\n",
    "plt.show()"
   ]
  },
  {
   "cell_type": "markdown",
   "id": "d1d3cc86",
   "metadata": {},
   "source": [
    "#### a. P (MPG>38) - Area to the right"
   ]
  },
  {
   "cell_type": "code",
   "execution_count": 23,
   "id": "a50e6dbb",
   "metadata": {},
   "outputs": [
    {
     "data": {
      "text/plain": [
       "0.3475939251582705"
      ]
     },
     "execution_count": 23,
     "metadata": {},
     "output_type": "execute_result"
    }
   ],
   "source": [
    "1-stats.norm.cdf(38,loc=cars_data['MPG'].mean(),scale=cars_data['MPG'].std())"
   ]
  },
  {
   "cell_type": "code",
   "execution_count": 24,
   "id": "5110bd1a",
   "metadata": {},
   "outputs": [
    {
     "name": "stdout",
     "output_type": "stream",
     "text": [
      "Probability of MPG > 38 is 0.3476\n"
     ]
    }
   ],
   "source": [
    "print('Probability of MPG > 38 is', round(1-stats.norm.cdf(38,loc=cars_data['MPG'].mean(),scale=cars_data['MPG'].std()),4))"
   ]
  },
  {
   "cell_type": "markdown",
   "id": "d87fa64e",
   "metadata": {},
   "source": [
    "#### b. P (MPG<40) - Area to the left"
   ]
  },
  {
   "cell_type": "code",
   "execution_count": 25,
   "id": "0720fb5b",
   "metadata": {},
   "outputs": [
    {
     "data": {
      "text/plain": [
       "0.7293498762151616"
      ]
     },
     "execution_count": 25,
     "metadata": {},
     "output_type": "execute_result"
    }
   ],
   "source": [
    "stats.norm.cdf(40,loc=cars_data['MPG'].mean(),scale=cars_data['MPG'].std())"
   ]
  },
  {
   "cell_type": "code",
   "execution_count": 26,
   "id": "e9b00a6c",
   "metadata": {},
   "outputs": [
    {
     "name": "stdout",
     "output_type": "stream",
     "text": [
      "Probability of MPG < 40 is 0.7293\n"
     ]
    }
   ],
   "source": [
    "print('Probability of MPG < 40 is', round(stats.norm.cdf(40,loc=cars_data['MPG'].mean(),scale=cars_data['MPG'].std()),4))"
   ]
  },
  {
   "cell_type": "markdown",
   "id": "f3601e03",
   "metadata": {},
   "source": [
    "#### c. P (20<MPG<50) - P(MPG<50)-P(MPG<20)"
   ]
  },
  {
   "cell_type": "code",
   "execution_count": 27,
   "id": "6143d2d2",
   "metadata": {},
   "outputs": [
    {
     "data": {
      "text/plain": [
       "-0.05712377632115936"
      ]
     },
     "execution_count": 27,
     "metadata": {},
     "output_type": "execute_result"
    }
   ],
   "source": [
    "stats.norm.cdf(50,loc=cars_data['MPG'].mean(),scale=cars_data['MPG'].std())\n",
    "-stats.norm.cdf(20,loc=cars_data['MPG'].mean(),scale=cars_data['MPG'].std())"
   ]
  },
  {
   "cell_type": "code",
   "execution_count": 28,
   "id": "86be7f94",
   "metadata": {},
   "outputs": [
    {
     "name": "stdout",
     "output_type": "stream",
     "text": [
      "Probability of 20 > MPG > 50 is 0.8989\n"
     ]
    }
   ],
   "source": [
    "print('Probability of 20 > MPG > 50 is', round(stats.norm.cdf(50,loc=cars_data['MPG'].mean(),scale=cars_data['MPG'].std())\n",
    "-stats.norm.cdf(20,loc=cars_data['MPG'].mean(),scale=cars_data['MPG'].std()),4)) "
   ]
  },
  {
   "cell_type": "markdown",
   "id": "609512a5",
   "metadata": {},
   "source": [
    "## ----------------------------------------------------------------------------------------------------------------------------"
   ]
  },
  {
   "cell_type": "markdown",
   "id": "bc3e35d2",
   "metadata": {},
   "source": [
    "### Q 21) Check whether the data follows normal distribution\n",
    "    a.  Check whether the MPG of Cars follows Normal Distribution [Dataset: Cars.csv]\n",
    "    b.  Check Whether the Adipose Tissue (AT) and Waist Circumference (Waist) from wc-at\n",
    "        data set follows Normal Distribution [Dataset: wc-at.csv]"
   ]
  },
  {
   "cell_type": "markdown",
   "id": "2a48bffc",
   "metadata": {},
   "source": [
    "#### a.  Check whether the MPG of Cars follows Normal Distribution"
   ]
  },
  {
   "cell_type": "code",
   "execution_count": 29,
   "id": "d54f7463",
   "metadata": {},
   "outputs": [
    {
     "data": {
      "text/plain": [
       "34.422075728024666"
      ]
     },
     "execution_count": 29,
     "metadata": {},
     "output_type": "execute_result"
    }
   ],
   "source": [
    "np.mean(cars_data['MPG'])"
   ]
  },
  {
   "cell_type": "code",
   "execution_count": 30,
   "id": "70ad2c72",
   "metadata": {},
   "outputs": [
    {
     "data": {
      "text/plain": [
       "35.15272697"
      ]
     },
     "execution_count": 30,
     "metadata": {},
     "output_type": "execute_result"
    }
   ],
   "source": [
    "np.median(cars_data['MPG'])"
   ]
  },
  {
   "cell_type": "code",
   "execution_count": 31,
   "id": "b7b0a350",
   "metadata": {},
   "outputs": [
    {
     "data": {
      "text/plain": [
       "29.62993595"
      ]
     },
     "execution_count": 31,
     "metadata": {},
     "output_type": "execute_result"
    }
   ],
   "source": [
    "statistics.mode(cars_data['MPG'])"
   ]
  },
  {
   "cell_type": "code",
   "execution_count": 32,
   "id": "75ad0e56",
   "metadata": {},
   "outputs": [
    {
     "data": {
      "image/png": "[encoded data removed]",
      "text/plain": [
       "<Figure size 432x288 with 1 Axes>"
      ]
     },
     "metadata": {
      "needs_background": "light"
     },
     "output_type": "display_data"
    }
   ],
   "source": [
    "sns.distplot(a=cars_data['MPG'])\n",
    "plt.title('Distplot for MPG')\n",
    "plt.show()"
   ]
  },
  {
   "cell_type": "code",
   "execution_count": 33,
   "id": "c9c0e6ce",
   "metadata": {},
   "outputs": [
    {
     "data": {
      "image/png": "[encoded data removed]",
      "text/plain": [
       "<Figure size 432x288 with 1 Axes>"
      ]
     },
     "metadata": {
      "needs_background": "light"
     },
     "output_type": "display_data"
    }
   ],
   "source": [
    "stats.probplot(x=cars_data['MPG'], dist='norm', plot=plt)\n",
    "plt.show()"
   ]
  },
  {
   "cell_type": "code",
   "execution_count": 34,
   "id": "37ef3d10",
   "metadata": {},
   "outputs": [
    {
     "data": {
      "image/png": "[encoded data removed]",
      "text/plain": [
       "<Figure size 432x288 with 1 Axes>"
      ]
     },
     "metadata": {
      "needs_background": "light"
     },
     "output_type": "display_data"
    }
   ],
   "source": [
    "plt.boxplot(x='MPG', data=cars_data)\n",
    "plt.title('Barplot for MPG')\n",
    "plt.show()"
   ]
  },
  {
   "cell_type": "code",
   "execution_count": 35,
   "id": "3be2d309",
   "metadata": {},
   "outputs": [
    {
     "data": {
      "text/plain": [
       "-0.1779"
      ]
     },
     "execution_count": 35,
     "metadata": {},
     "output_type": "execute_result"
    }
   ],
   "source": [
    "round(cars_data['MPG'].skew(),4)"
   ]
  },
  {
   "cell_type": "code",
   "execution_count": 36,
   "id": "20520481",
   "metadata": {},
   "outputs": [
    {
     "data": {
      "text/plain": [
       "-0.6117"
      ]
     },
     "execution_count": 36,
     "metadata": {},
     "output_type": "execute_result"
    }
   ],
   "source": [
    "round(cars_data['MPG'].kurtosis(),4)"
   ]
  },
  {
   "cell_type": "markdown",
   "id": "f3a46e0d",
   "metadata": {},
   "source": [
    "####   b.  Check Whether the Adipose Tissue (AT) and Waist Circumference (Waist) from wc-at data set follows Normal Distribution"
   ]
  },
  {
   "cell_type": "code",
   "execution_count": 37,
   "id": "3c7d12c0",
   "metadata": {},
   "outputs": [
    {
     "data": {
      "text/html": [
       "<div>\n",
       "<style scoped>\n",
       "    .dataframe tbody tr th:only-of-type {\n",
       "        vertical-align: middle;\n",
       "    }\n",
       "\n",
       "    .dataframe tbody tr th {\n",
       "        vertical-align: top;\n",
       "    }\n",
       "\n",
       "    .dataframe thead th {\n",
       "        text-align: right;\n",
       "    }\n",
       "</style>\n",
       "<table border=\"1\" class=\"dataframe\">\n",
       "  <thead>\n",
       "    <tr style=\"text-align: right;\">\n",
       "      <th></th>\n",
       "      <th>Waist</th>\n",
       "      <th>AT</th>\n",
       "    </tr>\n",
       "  </thead>\n",
       "  <tbody>\n",
       "    <tr>\n",
       "      <th>0</th>\n",
       "      <td>74.75</td>\n",
       "      <td>25.72</td>\n",
       "    </tr>\n",
       "    <tr>\n",
       "      <th>1</th>\n",
       "      <td>72.60</td>\n",
       "      <td>25.89</td>\n",
       "    </tr>\n",
       "    <tr>\n",
       "      <th>2</th>\n",
       "      <td>81.80</td>\n",
       "      <td>42.60</td>\n",
       "    </tr>\n",
       "    <tr>\n",
       "      <th>3</th>\n",
       "      <td>83.95</td>\n",
       "      <td>42.80</td>\n",
       "    </tr>\n",
       "    <tr>\n",
       "      <th>4</th>\n",
       "      <td>74.65</td>\n",
       "      <td>29.84</td>\n",
       "    </tr>\n",
       "    <tr>\n",
       "      <th>...</th>\n",
       "      <td>...</td>\n",
       "      <td>...</td>\n",
       "    </tr>\n",
       "    <tr>\n",
       "      <th>104</th>\n",
       "      <td>100.10</td>\n",
       "      <td>124.00</td>\n",
       "    </tr>\n",
       "    <tr>\n",
       "      <th>105</th>\n",
       "      <td>93.30</td>\n",
       "      <td>62.20</td>\n",
       "    </tr>\n",
       "    <tr>\n",
       "      <th>106</th>\n",
       "      <td>101.80</td>\n",
       "      <td>133.00</td>\n",
       "    </tr>\n",
       "    <tr>\n",
       "      <th>107</th>\n",
       "      <td>107.90</td>\n",
       "      <td>208.00</td>\n",
       "    </tr>\n",
       "    <tr>\n",
       "      <th>108</th>\n",
       "      <td>108.50</td>\n",
       "      <td>208.00</td>\n",
       "    </tr>\n",
       "  </tbody>\n",
       "</table>\n",
       "<p>109 rows × 2 columns</p>\n",
       "</div>"
      ],
      "text/plain": [
       "      Waist      AT\n",
       "0     74.75   25.72\n",
       "1     72.60   25.89\n",
       "2     81.80   42.60\n",
       "3     83.95   42.80\n",
       "4     74.65   29.84\n",
       "..      ...     ...\n",
       "104  100.10  124.00\n",
       "105   93.30   62.20\n",
       "106  101.80  133.00\n",
       "107  107.90  208.00\n",
       "108  108.50  208.00\n",
       "\n",
       "[109 rows x 2 columns]"
      ]
     },
     "execution_count": 37,
     "metadata": {},
     "output_type": "execute_result"
    }
   ],
   "source": [
    "wc_at_data = pd.read_csv('wc-at.csv')\n",
    "wc_at_data"
   ]
  },
  {
   "cell_type": "code",
   "execution_count": 38,
   "id": "7f64076b",
   "metadata": {},
   "outputs": [
    {
     "data": {
      "text/plain": [
       "91.90183486238533"
      ]
     },
     "execution_count": 38,
     "metadata": {},
     "output_type": "execute_result"
    }
   ],
   "source": [
    "np.mean(wc_at_data['Waist'])"
   ]
  },
  {
   "cell_type": "code",
   "execution_count": 39,
   "id": "921c8507",
   "metadata": {},
   "outputs": [
    {
     "data": {
      "text/plain": [
       "90.8"
      ]
     },
     "execution_count": 39,
     "metadata": {},
     "output_type": "execute_result"
    }
   ],
   "source": [
    "np.median(wc_at_data['Waist'])"
   ]
  },
  {
   "cell_type": "code",
   "execution_count": 40,
   "id": "47433b9b",
   "metadata": {},
   "outputs": [
    {
     "data": {
      "text/plain": [
       "94.5"
      ]
     },
     "execution_count": 40,
     "metadata": {},
     "output_type": "execute_result"
    }
   ],
   "source": [
    "statistics.mode(wc_at_data['Waist'])"
   ]
  },
  {
   "cell_type": "code",
   "execution_count": 41,
   "id": "1b5881f5",
   "metadata": {},
   "outputs": [
    {
     "data": {
      "image/png": "[encoded data removed]",
      "text/plain": [
       "<Figure size 432x288 with 1 Axes>"
      ]
     },
     "metadata": {
      "needs_background": "light"
     },
     "output_type": "display_data"
    }
   ],
   "source": [
    "sns.distplot(a=wc_at_data['Waist'])\n",
    "plt.title('Distplot for Waist')\n",
    "plt.show()"
   ]
  },
  {
   "cell_type": "code",
   "execution_count": 42,
   "id": "201d5c35",
   "metadata": {},
   "outputs": [
    {
     "data": {
      "image/png": "[encoded data removed]",
      "text/plain": [
       "<Figure size 432x288 with 1 Axes>"
      ]
     },
     "metadata": {
      "needs_background": "light"
     },
     "output_type": "display_data"
    }
   ],
   "source": [
    "stats.probplot(x=wc_at_data['Waist'], dist='norm', plot=plt)\n",
    "plt.show()"
   ]
  },
  {
   "cell_type": "code",
   "execution_count": 43,
   "id": "068e0ec8",
   "metadata": {},
   "outputs": [
    {
     "data": {
      "text/plain": [
       "101.89403669724771"
      ]
     },
     "execution_count": 43,
     "metadata": {},
     "output_type": "execute_result"
    }
   ],
   "source": [
    "np.mean(wc_at_data['AT'])"
   ]
  },
  {
   "cell_type": "code",
   "execution_count": 44,
   "id": "b0db7c19",
   "metadata": {},
   "outputs": [
    {
     "data": {
      "text/plain": [
       "96.54"
      ]
     },
     "execution_count": 44,
     "metadata": {},
     "output_type": "execute_result"
    }
   ],
   "source": [
    "np.median(wc_at_data['AT'])"
   ]
  },
  {
   "cell_type": "code",
   "execution_count": 45,
   "id": "7ce4aa2b",
   "metadata": {},
   "outputs": [
    {
     "data": {
      "text/plain": [
       "121.0"
      ]
     },
     "execution_count": 45,
     "metadata": {},
     "output_type": "execute_result"
    }
   ],
   "source": [
    "statistics.mode(wc_at_data['AT'])"
   ]
  },
  {
   "cell_type": "code",
   "execution_count": 46,
   "id": "ff39d2b9",
   "metadata": {},
   "outputs": [
    {
     "data": {
      "image/png": "[encoded data removed]",
      "text/plain": [
       "<Figure size 432x288 with 1 Axes>"
      ]
     },
     "metadata": {
      "needs_background": "light"
     },
     "output_type": "display_data"
    }
   ],
   "source": [
    "sns.distplot(wc_at_data['AT'])\n",
    "plt.title('Distplot of AT')\n",
    "plt.show()"
   ]
  },
  {
   "cell_type": "code",
   "execution_count": 47,
   "id": "9ff4822c",
   "metadata": {},
   "outputs": [
    {
     "data": {
      "image/png": "[encoded data removed]",
      "text/plain": [
       "<Figure size 432x288 with 1 Axes>"
      ]
     },
     "metadata": {
      "needs_background": "light"
     },
     "output_type": "display_data"
    }
   ],
   "source": [
    "stats.probplot(x=wc_at_data['AT'], dist='norm', plot=plt)\n",
    "plt.show()"
   ]
  },
  {
   "cell_type": "markdown",
   "id": "7b7ff70f",
   "metadata": {},
   "source": [
    "## ----------------------------------------------------------------------------------------------------------------------------"
   ]
  },
  {
   "cell_type": "markdown",
   "id": "a9a7e533",
   "metadata": {},
   "source": [
    "### Q 22) Calculate the Z scores of  90% confidence interval,94% confidence interval, 60% confidence interval \n",
    "\n"
   ]
  },
  {
   "cell_type": "markdown",
   "id": "6bcacc7e",
   "metadata": {},
   "source": [
    "#### Z scores by PPF"
   ]
  },
  {
   "cell_type": "code",
   "execution_count": 48,
   "id": "f23004ca",
   "metadata": {},
   "outputs": [
    {
     "name": "stdout",
     "output_type": "stream",
     "text": [
      "Z score of 90% confidence interval is: 1.6449\n"
     ]
    }
   ],
   "source": [
    "z_90 = stats.norm.ppf(0.95) #z score for 90\n",
    "print('Z score of 90% confidence interval is:', round(z_90,4))"
   ]
  },
  {
   "cell_type": "code",
   "execution_count": 49,
   "id": "99b56c01",
   "metadata": {},
   "outputs": [
    {
     "name": "stdout",
     "output_type": "stream",
     "text": [
      "Z score of 94% confidence interval is: 1.8808\n"
     ]
    }
   ],
   "source": [
    "z_94 = stats.norm.ppf(0.97) #z score for 94\n",
    "print('Z score of 94% confidence interval is:', round(z_94,4))"
   ]
  },
  {
   "cell_type": "code",
   "execution_count": 50,
   "id": "15622d7a",
   "metadata": {},
   "outputs": [
    {
     "name": "stdout",
     "output_type": "stream",
     "text": [
      "Z score of 60% confidence interval is: 0.8416\n"
     ]
    }
   ],
   "source": [
    "z_60 = stats.norm.ppf(0.80) #z score for 60\n",
    "print('Z score of 60% confidence interval is:', round(z_60,4))"
   ]
  },
  {
   "cell_type": "markdown",
   "id": "81ffc4a1",
   "metadata": {},
   "source": [
    "#### Z scores by Interval"
   ]
  },
  {
   "cell_type": "code",
   "execution_count": 51,
   "id": "2f744fd6",
   "metadata": {},
   "outputs": [
    {
     "data": {
      "text/plain": [
       "(-1.6448536269514729, 1.6448536269514722)"
      ]
     },
     "execution_count": 51,
     "metadata": {},
     "output_type": "execute_result"
    }
   ],
   "source": [
    "stats.norm.interval(0.90,loc=0,scale=1) #z score for 90"
   ]
  },
  {
   "cell_type": "code",
   "execution_count": 52,
   "id": "7087b176",
   "metadata": {},
   "outputs": [
    {
     "data": {
      "text/plain": [
       "(-1.8807936081512509, 1.8807936081512509)"
      ]
     },
     "execution_count": 52,
     "metadata": {},
     "output_type": "execute_result"
    }
   ],
   "source": [
    "stats.norm.interval(0.94,loc=0,scale=1) #z score for 94"
   ]
  },
  {
   "cell_type": "code",
   "execution_count": 53,
   "id": "6e6639b8",
   "metadata": {},
   "outputs": [
    {
     "data": {
      "text/plain": [
       "(-0.8416212335729142, 0.8416212335729143)"
      ]
     },
     "execution_count": 53,
     "metadata": {},
     "output_type": "execute_result"
    }
   ],
   "source": [
    "stats.norm.interval(0.6,loc=0,scale=1) #z score for 60"
   ]
  },
  {
   "cell_type": "markdown",
   "id": "69dbf866",
   "metadata": {},
   "source": [
    "## ----------------------------------------------------------------------------------------------------------------------------"
   ]
  },
  {
   "cell_type": "markdown",
   "id": "130c4635",
   "metadata": {},
   "source": [
    "### Q 23) Calculate the t scores of 95% confidence interval, 96% confidence interval, 99% confidence interval for sample size of 25\n",
    "\n"
   ]
  },
  {
   "cell_type": "markdown",
   "id": "fba87cb1",
   "metadata": {},
   "source": [
    "#### t scores by PPF"
   ]
  },
  {
   "cell_type": "code",
   "execution_count": 54,
   "id": "957ca86e",
   "metadata": {},
   "outputs": [
    {
     "name": "stdout",
     "output_type": "stream",
     "text": [
      "t score of 95% confidence interval is: 2.0639\n"
     ]
    }
   ],
   "source": [
    "t_95 = stats.t.ppf(q=0.975, df=24)\n",
    "print('t score of 95% confidence interval is:',round(t_95,4))"
   ]
  },
  {
   "cell_type": "code",
   "execution_count": 55,
   "id": "f73c69d8",
   "metadata": {},
   "outputs": [
    {
     "name": "stdout",
     "output_type": "stream",
     "text": [
      "t score of 96% confidence interval is: 2.1715\n"
     ]
    }
   ],
   "source": [
    "t_96 = stats.t.ppf(q=0.98, df=24)\n",
    "print('t score of 96% confidence interval is:',round(t_96,4))"
   ]
  },
  {
   "cell_type": "code",
   "execution_count": 56,
   "id": "dcd43911",
   "metadata": {},
   "outputs": [
    {
     "name": "stdout",
     "output_type": "stream",
     "text": [
      "t score of 99% confidence interval is: 2.7969\n"
     ]
    }
   ],
   "source": [
    "t_99 = stats.t.ppf(q=0.995, df=24)\n",
    "print('t score of 99% confidence interval is:',round(t_99,4))"
   ]
  },
  {
   "cell_type": "markdown",
   "id": "6cc2f525",
   "metadata": {},
   "source": [
    "#### t scores by Interval"
   ]
  },
  {
   "cell_type": "code",
   "execution_count": 57,
   "id": "e5768514",
   "metadata": {},
   "outputs": [
    {
     "data": {
      "text/plain": [
       "(-2.059538552753294, 2.059538552753294)"
      ]
     },
     "execution_count": 57,
     "metadata": {},
     "output_type": "execute_result"
    }
   ],
   "source": [
    "# t scores of 95% CI\n",
    "stats.t.interval(0.95,25,loc=0,scale=1)"
   ]
  },
  {
   "cell_type": "code",
   "execution_count": 58,
   "id": "cb47a9d5",
   "metadata": {},
   "outputs": [
    {
     "data": {
      "text/plain": [
       "(-2.1665866344527562, 2.1665866344527562)"
      ]
     },
     "execution_count": 58,
     "metadata": {},
     "output_type": "execute_result"
    }
   ],
   "source": [
    "# t scores of 96% CI\n",
    "stats.t.interval(0.96,25,loc=0,scale=1)"
   ]
  },
  {
   "cell_type": "code",
   "execution_count": 59,
   "id": "1baceef0",
   "metadata": {},
   "outputs": [
    {
     "data": {
      "text/plain": [
       "(-2.787435813675851, 2.787435813675851)"
      ]
     },
     "execution_count": 59,
     "metadata": {},
     "output_type": "execute_result"
    }
   ],
   "source": [
    "# t scores of 99% CI\n",
    "stats.t.interval(0.99,25,loc=0,scale=1)"
   ]
  },
  {
   "cell_type": "code",
   "execution_count": null,
   "id": "5bb55ff6",
   "metadata": {},
   "outputs": [],
   "source": []
  }
 ],
 "metadata": {
  "kernelspec": {
   "display_name": "Python 3 (ipykernel)",
   "language": "python",
   "name": "python3"
  },
  "language_info": {
   "codemirror_mode": {
    "name": "ipython",
    "version": 3
   },
   "file_extension": ".py",
   "mimetype": "text/x-python",
   "name": "python",
   "nbconvert_exporter": "python",
   "pygments_lexer": "ipython3",
   "version": "3.9.7"
  }
 },
 "nbformat": 4,
 "nbformat_minor": 5
}
