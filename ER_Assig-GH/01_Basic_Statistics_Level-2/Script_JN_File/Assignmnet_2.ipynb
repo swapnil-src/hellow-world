{
 "cells": [
  {
   "cell_type": "markdown",
   "id": "6ab513ac",
   "metadata": {},
   "source": [
    "## 1. Import Necassary Libraries "
   ]
  },
  {
   "cell_type": "code",
   "execution_count": 2,
   "id": "1c91218c",
   "metadata": {},
   "outputs": [],
   "source": [
    "import pandas as pd\n",
    "import seaborn as sns\n",
    "from matplotlib import pyplot as plt\n",
    "import numpy as np\n",
    "from scipy import stats\n",
    "import scipy\n",
    "\n",
    "import warnings\n",
    "warnings.filterwarnings('ignore')"
   ]
  },
  {
   "cell_type": "markdown",
   "id": "a953c46e",
   "metadata": {},
   "source": [
    "## ********************(Set -1)********************"
   ]
  },
  {
   "cell_type": "markdown",
   "id": "54faf1a7",
   "metadata": {},
   "source": [
    "### Q.1"
   ]
  },
  {
   "cell_type": "markdown",
   "id": "fd94dc1d",
   "metadata": {},
   "source": [
    "\n",
    "#### Import Company Data\n"
   ]
  },
  {
   "cell_type": "code",
   "execution_count": 3,
   "id": "1a31bfd7",
   "metadata": {},
   "outputs": [
    {
     "data": {
      "text/html": [
       "<div>\n",
       "<style scoped>\n",
       "    .dataframe tbody tr th:only-of-type {\n",
       "        vertical-align: middle;\n",
       "    }\n",
       "\n",
       "    .dataframe tbody tr th {\n",
       "        vertical-align: top;\n",
       "    }\n",
       "\n",
       "    .dataframe thead th {\n",
       "        text-align: right;\n",
       "    }\n",
       "</style>\n",
       "<table border=\"1\" class=\"dataframe\">\n",
       "  <thead>\n",
       "    <tr style=\"text-align: right;\">\n",
       "      <th></th>\n",
       "      <th>Name of company</th>\n",
       "      <th>Measure X</th>\n",
       "    </tr>\n",
       "  </thead>\n",
       "  <tbody>\n",
       "    <tr>\n",
       "      <th>0</th>\n",
       "      <td>Allied Signal</td>\n",
       "      <td>24.23</td>\n",
       "    </tr>\n",
       "    <tr>\n",
       "      <th>1</th>\n",
       "      <td>Bankers Trust</td>\n",
       "      <td>25.53</td>\n",
       "    </tr>\n",
       "    <tr>\n",
       "      <th>2</th>\n",
       "      <td>General Mills</td>\n",
       "      <td>25.41</td>\n",
       "    </tr>\n",
       "    <tr>\n",
       "      <th>3</th>\n",
       "      <td>ITT Industries</td>\n",
       "      <td>24.14</td>\n",
       "    </tr>\n",
       "    <tr>\n",
       "      <th>4</th>\n",
       "      <td>J.P.Morgan &amp; Co.</td>\n",
       "      <td>29.62</td>\n",
       "    </tr>\n",
       "    <tr>\n",
       "      <th>5</th>\n",
       "      <td>Lehman Brothers</td>\n",
       "      <td>28.25</td>\n",
       "    </tr>\n",
       "    <tr>\n",
       "      <th>6</th>\n",
       "      <td>Marriott</td>\n",
       "      <td>25.81</td>\n",
       "    </tr>\n",
       "    <tr>\n",
       "      <th>7</th>\n",
       "      <td>MCI</td>\n",
       "      <td>24.39</td>\n",
       "    </tr>\n",
       "    <tr>\n",
       "      <th>8</th>\n",
       "      <td>Merrill Lynch</td>\n",
       "      <td>40.26</td>\n",
       "    </tr>\n",
       "    <tr>\n",
       "      <th>9</th>\n",
       "      <td>Microsoft</td>\n",
       "      <td>32.95</td>\n",
       "    </tr>\n",
       "    <tr>\n",
       "      <th>10</th>\n",
       "      <td>Morgan Stanley</td>\n",
       "      <td>91.36</td>\n",
       "    </tr>\n",
       "    <tr>\n",
       "      <th>11</th>\n",
       "      <td>Sun Microsystems</td>\n",
       "      <td>25.99</td>\n",
       "    </tr>\n",
       "    <tr>\n",
       "      <th>12</th>\n",
       "      <td>Travelers</td>\n",
       "      <td>39.42</td>\n",
       "    </tr>\n",
       "    <tr>\n",
       "      <th>13</th>\n",
       "      <td>US Airways</td>\n",
       "      <td>26.71</td>\n",
       "    </tr>\n",
       "    <tr>\n",
       "      <th>14</th>\n",
       "      <td>Warner-Lambert</td>\n",
       "      <td>35.00</td>\n",
       "    </tr>\n",
       "  </tbody>\n",
       "</table>\n",
       "</div>"
      ],
      "text/plain": [
       "     Name of company  Measure X\n",
       "0      Allied Signal      24.23\n",
       "1      Bankers Trust      25.53\n",
       "2      General Mills      25.41\n",
       "3     ITT Industries      24.14\n",
       "4   J.P.Morgan & Co.      29.62\n",
       "5    Lehman Brothers      28.25\n",
       "6           Marriott      25.81\n",
       "7                MCI      24.39\n",
       "8      Merrill Lynch      40.26\n",
       "9          Microsoft      32.95\n",
       "10    Morgan Stanley      91.36\n",
       "11  Sun Microsystems      25.99\n",
       "12         Travelers      39.42\n",
       "13        US Airways      26.71\n",
       "14    Warner-Lambert      35.00"
      ]
     },
     "execution_count": 3,
     "metadata": {},
     "output_type": "execute_result"
    }
   ],
   "source": [
    "company_data = pd.read_excel('company.xlsx')\n",
    "company_data"
   ]
  },
  {
   "cell_type": "code",
   "execution_count": 4,
   "id": "8936aa7f",
   "metadata": {},
   "outputs": [
    {
     "data": {
      "text/html": [
       "<div>\n",
       "<style scoped>\n",
       "    .dataframe tbody tr th:only-of-type {\n",
       "        vertical-align: middle;\n",
       "    }\n",
       "\n",
       "    .dataframe tbody tr th {\n",
       "        vertical-align: top;\n",
       "    }\n",
       "\n",
       "    .dataframe thead th {\n",
       "        text-align: right;\n",
       "    }\n",
       "</style>\n",
       "<table border=\"1\" class=\"dataframe\">\n",
       "  <thead>\n",
       "    <tr style=\"text-align: right;\">\n",
       "      <th></th>\n",
       "      <th>company</th>\n",
       "      <th>x</th>\n",
       "    </tr>\n",
       "  </thead>\n",
       "  <tbody>\n",
       "    <tr>\n",
       "      <th>0</th>\n",
       "      <td>Allied Signal</td>\n",
       "      <td>24.23</td>\n",
       "    </tr>\n",
       "    <tr>\n",
       "      <th>1</th>\n",
       "      <td>Bankers Trust</td>\n",
       "      <td>25.53</td>\n",
       "    </tr>\n",
       "    <tr>\n",
       "      <th>2</th>\n",
       "      <td>General Mills</td>\n",
       "      <td>25.41</td>\n",
       "    </tr>\n",
       "    <tr>\n",
       "      <th>3</th>\n",
       "      <td>ITT Industries</td>\n",
       "      <td>24.14</td>\n",
       "    </tr>\n",
       "    <tr>\n",
       "      <th>4</th>\n",
       "      <td>J.P.Morgan &amp; Co.</td>\n",
       "      <td>29.62</td>\n",
       "    </tr>\n",
       "  </tbody>\n",
       "</table>\n",
       "</div>"
      ],
      "text/plain": [
       "            company      x\n",
       "0     Allied Signal  24.23\n",
       "1     Bankers Trust  25.53\n",
       "2     General Mills  25.41\n",
       "3    ITT Industries  24.14\n",
       "4  J.P.Morgan & Co.  29.62"
      ]
     },
     "execution_count": 4,
     "metadata": {},
     "output_type": "execute_result"
    }
   ],
   "source": [
    "company_data.rename(columns = {'Name of company' : 'company' , 'Measure X' : 'x'}, inplace=True)\n",
    "company_data.head()"
   ]
  },
  {
   "cell_type": "code",
   "execution_count": 5,
   "id": "96332008",
   "metadata": {},
   "outputs": [
    {
     "data": {
      "image/png": "[encoded data removed]",
      "text/plain": [
       "<Figure size 432x288 with 1 Axes>"
      ]
     },
     "metadata": {
      "needs_background": "light"
     },
     "output_type": "display_data"
    }
   ],
   "source": [
    "plt.boxplot(x= 'x', data=company_data)\n",
    "plt.title('Boxplot for Measure x')\n",
    "plt.show()"
   ]
  },
  {
   "cell_type": "code",
   "execution_count": 6,
   "id": "eec56128",
   "metadata": {},
   "outputs": [
    {
     "data": {
      "image/png": "[encoded data removed]",
      "text/plain": [
       "<Figure size 432x288 with 1 Axes>"
      ]
     },
     "metadata": {
      "needs_background": "light"
     },
     "output_type": "display_data"
    }
   ],
   "source": [
    "sns.distplot(company_data['x'])\n",
    "plt.title('Distplot for Measure x')\n",
    "plt.show()"
   ]
  },
  {
   "cell_type": "code",
   "execution_count": 7,
   "id": "cabc586c",
   "metadata": {},
   "outputs": [
    {
     "name": "stdout",
     "output_type": "stream",
     "text": [
      "Mean of Measure x               : 33.2713\n",
      "Variance of Measure x           : 268.0035\n",
      "Standard Deviation of Measure x : 16.3708\n"
     ]
    }
   ],
   "source": [
    "print('Mean of Measure x               :',round(np.mean(company_data['x']),4))\n",
    "print('Variance of Measure x           :',round(np.var(company_data['x']),4))\n",
    "print('Standard Deviation of Measure x :',round(np.std(company_data['x']),4))"
   ]
  },
  {
   "cell_type": "code",
   "execution_count": 8,
   "id": "f87d702f",
   "metadata": {},
   "outputs": [],
   "source": [
    "venture_data = [[-2000,0.1], [-1000,0.1], [0,0.2], [1000,0.2], [2000,0.3], [3000,0.1]]"
   ]
  },
  {
   "cell_type": "code",
   "execution_count": 9,
   "id": "3fcc68e6",
   "metadata": {},
   "outputs": [
    {
     "data": {
      "text/plain": [
       "[[-2000, 0.1], [-1000, 0.1], [0, 0.2], [1000, 0.2], [2000, 0.3], [3000, 0.1]]"
      ]
     },
     "execution_count": 9,
     "metadata": {},
     "output_type": "execute_result"
    }
   ],
   "source": [
    "venture_data"
   ]
  },
  {
   "cell_type": "code",
   "execution_count": 10,
   "id": "090315f3",
   "metadata": {},
   "outputs": [
    {
     "data": {
      "text/plain": [
       "list"
      ]
     },
     "execution_count": 10,
     "metadata": {},
     "output_type": "execute_result"
    }
   ],
   "source": [
    "type(venture_data)"
   ]
  },
  {
   "cell_type": "code",
   "execution_count": 11,
   "id": "ace72fcc",
   "metadata": {},
   "outputs": [
    {
     "data": {
      "text/html": [
       "<div>\n",
       "<style scoped>\n",
       "    .dataframe tbody tr th:only-of-type {\n",
       "        vertical-align: middle;\n",
       "    }\n",
       "\n",
       "    .dataframe tbody tr th {\n",
       "        vertical-align: top;\n",
       "    }\n",
       "\n",
       "    .dataframe thead th {\n",
       "        text-align: right;\n",
       "    }\n",
       "</style>\n",
       "<table border=\"1\" class=\"dataframe\">\n",
       "  <thead>\n",
       "    <tr style=\"text-align: right;\">\n",
       "      <th></th>\n",
       "      <th>x</th>\n",
       "      <th>P(x)</th>\n",
       "    </tr>\n",
       "  </thead>\n",
       "  <tbody>\n",
       "    <tr>\n",
       "      <th>0</th>\n",
       "      <td>-2000</td>\n",
       "      <td>0.1</td>\n",
       "    </tr>\n",
       "    <tr>\n",
       "      <th>1</th>\n",
       "      <td>-1000</td>\n",
       "      <td>0.1</td>\n",
       "    </tr>\n",
       "    <tr>\n",
       "      <th>2</th>\n",
       "      <td>0</td>\n",
       "      <td>0.2</td>\n",
       "    </tr>\n",
       "    <tr>\n",
       "      <th>3</th>\n",
       "      <td>1000</td>\n",
       "      <td>0.2</td>\n",
       "    </tr>\n",
       "    <tr>\n",
       "      <th>4</th>\n",
       "      <td>2000</td>\n",
       "      <td>0.3</td>\n",
       "    </tr>\n",
       "    <tr>\n",
       "      <th>5</th>\n",
       "      <td>3000</td>\n",
       "      <td>0.1</td>\n",
       "    </tr>\n",
       "  </tbody>\n",
       "</table>\n",
       "</div>"
      ],
      "text/plain": [
       "      x  P(x)\n",
       "0 -2000   0.1\n",
       "1 -1000   0.1\n",
       "2     0   0.2\n",
       "3  1000   0.2\n",
       "4  2000   0.3\n",
       "5  3000   0.1"
      ]
     },
     "execution_count": 11,
     "metadata": {},
     "output_type": "execute_result"
    }
   ],
   "source": [
    "venture_data = pd.DataFrame(venture_data)\n",
    "venture_data.columns = ['x','P(x)']\n",
    "venture_data"
   ]
  },
  {
   "cell_type": "code",
   "execution_count": 12,
   "id": "d8adde9b",
   "metadata": {},
   "outputs": [
    {
     "data": {
      "text/plain": [
       "1707.825127659933"
      ]
     },
     "execution_count": 12,
     "metadata": {},
     "output_type": "execute_result"
    }
   ],
   "source": [
    "np.std(venture_data['x'])"
   ]
  },
  {
   "cell_type": "code",
   "execution_count": 13,
   "id": "e00583fa",
   "metadata": {},
   "outputs": [
    {
     "data": {
      "text/plain": [
       "1707.8251"
      ]
     },
     "execution_count": 13,
     "metadata": {},
     "output_type": "execute_result"
    }
   ],
   "source": [
    "round(np.std(venture_data['x']),4)"
   ]
  },
  {
   "cell_type": "markdown",
   "id": "286b0565",
   "metadata": {},
   "source": [
    "## ********************(Set -2)********************"
   ]
  },
  {
   "cell_type": "markdown",
   "id": "82c6cb17",
   "metadata": {},
   "source": [
    "### Q. 4.\tLet X ~ N(100, 202). Find two values, a and b, symmetric about the mean, such that the probability of the random variable taking a value between them is 0.99"
   ]
  },
  {
   "cell_type": "code",
   "execution_count": 14,
   "id": "45b65d7c",
   "metadata": {},
   "outputs": [
    {
     "data": {
      "text/plain": [
       "151.5166"
      ]
     },
     "execution_count": 14,
     "metadata": {},
     "output_type": "execute_result"
    }
   ],
   "source": [
    "round(scipy.stats.norm.ppf(0.995,100,20),4)"
   ]
  },
  {
   "cell_type": "code",
   "execution_count": 15,
   "id": "e9153f21",
   "metadata": {},
   "outputs": [
    {
     "data": {
      "text/plain": [
       "48.4834"
      ]
     },
     "execution_count": 15,
     "metadata": {},
     "output_type": "execute_result"
    }
   ],
   "source": [
    "round(scipy.stats.norm.ppf(0.005,100,20),4)"
   ]
  },
  {
   "cell_type": "code",
   "execution_count": 16,
   "id": "cfcb9c02",
   "metadata": {},
   "outputs": [],
   "source": [
    "# This can be also done in bellow way"
   ]
  },
  {
   "cell_type": "code",
   "execution_count": 17,
   "id": "c7b1d7a3",
   "metadata": {},
   "outputs": [
    {
     "data": {
      "text/plain": [
       "(48.48341392902199, 151.516586070978)"
      ]
     },
     "execution_count": 17,
     "metadata": {},
     "output_type": "execute_result"
    }
   ],
   "source": [
    "stats.norm.interval(0.99,100,20)"
   ]
  },
  {
   "cell_type": "markdown",
   "id": "654a5987",
   "metadata": {},
   "source": [
    "### Q.5"
   ]
  },
  {
   "cell_type": "markdown",
   "id": "89c2f8d4",
   "metadata": {},
   "source": [
    "#### Q.5_A"
   ]
  },
  {
   "cell_type": "markdown",
   "id": "95f01b93",
   "metadata": {},
   "source": [
    "##### Profit - 1"
   ]
  },
  {
   "cell_type": "code",
   "execution_count": 18,
   "id": "2765ed36",
   "metadata": {},
   "outputs": [
    {
     "data": {
      "text/plain": [
       "219.1201"
      ]
     },
     "execution_count": 18,
     "metadata": {},
     "output_type": "execute_result"
    }
   ],
   "source": [
    "round(scipy.stats.norm.ppf(0.025,5*45,3),4)"
   ]
  },
  {
   "cell_type": "code",
   "execution_count": 19,
   "id": "8e98d28f",
   "metadata": {},
   "outputs": [
    {
     "data": {
      "text/plain": [
       "230.8799"
      ]
     },
     "execution_count": 19,
     "metadata": {},
     "output_type": "execute_result"
    }
   ],
   "source": [
    "round(scipy.stats.norm.ppf(0.975,5*45,3),4)"
   ]
  },
  {
   "cell_type": "code",
   "execution_count": 20,
   "id": "de98b16e",
   "metadata": {},
   "outputs": [],
   "source": [
    "# This can be also done in bellow way"
   ]
  },
  {
   "cell_type": "code",
   "execution_count": 21,
   "id": "c214aa23",
   "metadata": {},
   "outputs": [
    {
     "data": {
      "text/plain": [
       "(219.12010804637984, 230.87989195362016)"
      ]
     },
     "execution_count": 21,
     "metadata": {},
     "output_type": "execute_result"
    }
   ],
   "source": [
    "stats.norm.interval(0.95,5*45,3)"
   ]
  },
  {
   "cell_type": "markdown",
   "id": "6f3d9bcd",
   "metadata": {},
   "source": [
    "##### Profit - 2"
   ]
  },
  {
   "cell_type": "code",
   "execution_count": 22,
   "id": "cdc4d360",
   "metadata": {},
   "outputs": [
    {
     "data": {
      "text/plain": [
       "307.1601440618398"
      ]
     },
     "execution_count": 22,
     "metadata": {},
     "output_type": "execute_result"
    }
   ],
   "source": [
    "scipy.stats.norm.ppf(0.025,7*45,4)"
   ]
  },
  {
   "cell_type": "code",
   "execution_count": 23,
   "id": "2d676992",
   "metadata": {},
   "outputs": [
    {
     "data": {
      "text/plain": [
       "322.8398559381602"
      ]
     },
     "execution_count": 23,
     "metadata": {},
     "output_type": "execute_result"
    }
   ],
   "source": [
    "scipy.stats.norm.ppf(0.975,7*45,4)"
   ]
  },
  {
   "cell_type": "code",
   "execution_count": 24,
   "id": "acb031d2",
   "metadata": {},
   "outputs": [],
   "source": [
    "# This can be also done in bellow way"
   ]
  },
  {
   "cell_type": "code",
   "execution_count": 25,
   "id": "3246f86c",
   "metadata": {},
   "outputs": [
    {
     "data": {
      "text/plain": [
       "(307.1601440618398, 322.8398559381602)"
      ]
     },
     "execution_count": 25,
     "metadata": {},
     "output_type": "execute_result"
    }
   ],
   "source": [
    "stats.norm.interval(0.95,7*45,4)"
   ]
  },
  {
   "cell_type": "markdown",
   "id": "8f01e24a",
   "metadata": {},
   "source": [
    "#### Q.5_B"
   ]
  },
  {
   "cell_type": "code",
   "execution_count": 26,
   "id": "fa083fd4",
   "metadata": {},
   "outputs": [
    {
     "data": {
      "text/plain": [
       "220.0654391191456"
      ]
     },
     "execution_count": 26,
     "metadata": {},
     "output_type": "execute_result"
    }
   ],
   "source": [
    "scipy.stats.norm.ppf(0.05,5*45,3)"
   ]
  },
  {
   "cell_type": "code",
   "execution_count": 27,
   "id": "7c5f5dc3",
   "metadata": {},
   "outputs": [
    {
     "data": {
      "text/plain": [
       "308.4205854921941"
      ]
     },
     "execution_count": 27,
     "metadata": {},
     "output_type": "execute_result"
    }
   ],
   "source": [
    "scipy.stats.norm.ppf(0.05,7*45,4)"
   ]
  },
  {
   "cell_type": "markdown",
   "id": "5e0e9829",
   "metadata": {},
   "source": [
    "## ********************(Set -4)********************"
   ]
  },
  {
   "cell_type": "markdown",
   "id": "bf84f325",
   "metadata": {},
   "source": [
    "#### Q.3"
   ]
  },
  {
   "cell_type": "code",
   "execution_count": 28,
   "id": "68636ec5",
   "metadata": {},
   "outputs": [
    {
     "data": {
      "text/plain": [
       "0.8944"
      ]
     },
     "execution_count": 28,
     "metadata": {},
     "output_type": "execute_result"
    }
   ],
   "source": [
    "round(stats.norm.cdf(55,50,4),4)"
   ]
  },
  {
   "cell_type": "code",
   "execution_count": 29,
   "id": "2bce79d7",
   "metadata": {},
   "outputs": [
    {
     "data": {
      "text/plain": [
       "0.1056"
      ]
     },
     "execution_count": 29,
     "metadata": {},
     "output_type": "execute_result"
    }
   ],
   "source": [
    "round(stats.norm.cdf(45,50,4),4)"
   ]
  }
 ],
 "metadata": {
  "kernelspec": {
   "display_name": "Python 3 (ipykernel)",
   "language": "python",
   "name": "python3"
  },
  "language_info": {
   "codemirror_mode": {
    "name": "ipython",
    "version": 3
   },
   "file_extension": ".py",
   "mimetype": "text/x-python",
   "name": "python",
   "nbconvert_exporter": "python",
   "pygments_lexer": "ipython3",
   "version": "3.9.7"
  }
 },
 "nbformat": 4,
 "nbformat_minor": 5
}
